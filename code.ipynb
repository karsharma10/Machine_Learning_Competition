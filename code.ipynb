{
 "cells": [
  {
   "cell_type": "code",
   "execution_count": 2,
   "metadata": {},
   "outputs": [],
   "source": [
    "import numpy as np\n",
    "import matplotlib.pyplot as plt\n",
    "import pandas as pd\n",
    "from sklearn.metrics import accuracy_score\n",
    "import nltk\n",
    "from nltk.tokenize import word_tokenize\n",
    "from sklearn.feature_extraction.text import CountVectorizer, TfidfVectorizer\n",
    "from sklearn.linear_model import SGDClassifier\n",
    "from sklearn.base import BaseEstimator, TransformerMixin\n",
    "from sklearn.pipeline import FeatureUnion, Pipeline\n",
    "from sklearn.metrics import accuracy_score\n",
    "from sklearn.preprocessing import StandardScaler\n",
    "from sklearn.linear_model import Ridge\n",
    "from sklearn.ensemble import RandomForestClassifier\n",
    "from sklearn.neural_network import MLPClassifier\n",
    "from sklearn.neighbors import KNeighborsClassifier\n",
    "from sklearn.linear_model import LogisticRegression\n",
    "from sklearn import linear_model\n",
    "from sklearn.linear_model import ElasticNet"
   ]
  },
  {
   "cell_type": "code",
   "execution_count": 3,
   "metadata": {},
   "outputs": [],
   "source": [
    "\n",
    "import numpy as np\n",
    "import pandas as pd\n",
    "import seaborn as sns\n",
    "import matplotlib.pyplot as plt\n",
    "from sklearn import preprocessing, svm\n",
    "from sklearn.model_selection import train_test_split\n",
    "from sklearn.linear_model import LinearRegression"
   ]
  },
  {
   "cell_type": "code",
   "execution_count": 4,
   "metadata": {},
   "outputs": [
    {
     "ename": "NameError",
     "evalue": "name 'csv_files' is not defined",
     "output_type": "error",
     "traceback": [
      "\u001b[0;31m---------------------------------------------------------------------------\u001b[0m",
      "\u001b[0;31mNameError\u001b[0m                                 Traceback (most recent call last)",
      "\u001b[1;32m/Users/kartiksharma/Desktop/School/Machine Learning/Competition/code.ipynb Cell 3\u001b[0m in \u001b[0;36m<cell line: 2>\u001b[0;34m()\u001b[0m\n\u001b[1;32m      <a href='vscode-notebook-cell:/Users/kartiksharma/Desktop/School/Machine%20Learning/Competition/code.ipynb#W2sZmlsZQ%3D%3D?line=0'>1</a>\u001b[0m df_append \u001b[39m=\u001b[39m pd\u001b[39m.\u001b[39mDataFrame()\n\u001b[0;32m----> <a href='vscode-notebook-cell:/Users/kartiksharma/Desktop/School/Machine%20Learning/Competition/code.ipynb#W2sZmlsZQ%3D%3D?line=1'>2</a>\u001b[0m \u001b[39mfor\u001b[39;00m file \u001b[39min\u001b[39;00m csv_files:\n\u001b[1;32m      <a href='vscode-notebook-cell:/Users/kartiksharma/Desktop/School/Machine%20Learning/Competition/code.ipynb#W2sZmlsZQ%3D%3D?line=2'>3</a>\u001b[0m             df_temp \u001b[39m=\u001b[39m pd\u001b[39m.\u001b[39mread_csv(file)\n\u001b[1;32m      <a href='vscode-notebook-cell:/Users/kartiksharma/Desktop/School/Machine%20Learning/Competition/code.ipynb#W2sZmlsZQ%3D%3D?line=3'>4</a>\u001b[0m             df_append \u001b[39m=\u001b[39m df_append\u001b[39m.\u001b[39mappend(df_temp, ignore_index\u001b[39m=\u001b[39m\u001b[39mTrue\u001b[39;00m)\n",
      "\u001b[0;31mNameError\u001b[0m: name 'csv_files' is not defined"
     ]
    }
   ],
   "source": [
    "df_append = pd.DataFrame()\n",
    "for file in csv_files:\n",
    "            df_temp = pd.read_csv(file)\n",
    "            df_append = df_append.append(df_temp, ignore_index=True)\n",
    "    \n",
    "df_append"
   ]
  },
  {
   "cell_type": "code",
   "execution_count": 85,
   "metadata": {},
   "outputs": [],
   "source": [
    "df_append = pd.read_csv('XTrain.csv')\n",
    "df_temp = pd.read_csv('YTrain.csv')\n",
    "xtest = pd.read_csv('XTest.csv')"
   ]
  },
  {
   "cell_type": "code",
   "execution_count": 86,
   "metadata": {},
   "outputs": [],
   "source": [
    "df_temp = df_temp.rename(columns={\"Unnamed: 0\": \"id\"})\n"
   ]
  },
  {
   "cell_type": "code",
   "execution_count": 87,
   "metadata": {},
   "outputs": [
    {
     "data": {
      "text/html": [
       "<div>\n",
       "<style scoped>\n",
       "    .dataframe tbody tr th:only-of-type {\n",
       "        vertical-align: middle;\n",
       "    }\n",
       "\n",
       "    .dataframe tbody tr th {\n",
       "        vertical-align: top;\n",
       "    }\n",
       "\n",
       "    .dataframe thead th {\n",
       "        text-align: right;\n",
       "    }\n",
       "</style>\n",
       "<table border=\"1\" class=\"dataframe\">\n",
       "  <thead>\n",
       "    <tr style=\"text-align: right;\">\n",
       "      <th></th>\n",
       "      <th>id</th>\n",
       "      <th>vote_average</th>\n",
       "    </tr>\n",
       "  </thead>\n",
       "  <tbody>\n",
       "    <tr>\n",
       "      <th>0</th>\n",
       "      <td>9069</td>\n",
       "      <td>5.7</td>\n",
       "    </tr>\n",
       "    <tr>\n",
       "      <th>1</th>\n",
       "      <td>2603</td>\n",
       "      <td>6.9</td>\n",
       "    </tr>\n",
       "    <tr>\n",
       "      <th>2</th>\n",
       "      <td>7738</td>\n",
       "      <td>5.7</td>\n",
       "    </tr>\n",
       "    <tr>\n",
       "      <th>3</th>\n",
       "      <td>1579</td>\n",
       "      <td>7.4</td>\n",
       "    </tr>\n",
       "    <tr>\n",
       "      <th>4</th>\n",
       "      <td>5058</td>\n",
       "      <td>6.3</td>\n",
       "    </tr>\n",
       "    <tr>\n",
       "      <th>...</th>\n",
       "      <td>...</td>\n",
       "      <td>...</td>\n",
       "    </tr>\n",
       "    <tr>\n",
       "      <th>6995</th>\n",
       "      <td>5734</td>\n",
       "      <td>6.2</td>\n",
       "    </tr>\n",
       "    <tr>\n",
       "      <th>6996</th>\n",
       "      <td>5191</td>\n",
       "      <td>7.3</td>\n",
       "    </tr>\n",
       "    <tr>\n",
       "      <th>6997</th>\n",
       "      <td>5390</td>\n",
       "      <td>6.6</td>\n",
       "    </tr>\n",
       "    <tr>\n",
       "      <th>6998</th>\n",
       "      <td>860</td>\n",
       "      <td>8.3</td>\n",
       "    </tr>\n",
       "    <tr>\n",
       "      <th>6999</th>\n",
       "      <td>7270</td>\n",
       "      <td>5.6</td>\n",
       "    </tr>\n",
       "  </tbody>\n",
       "</table>\n",
       "<p>7000 rows × 2 columns</p>\n",
       "</div>"
      ],
      "text/plain": [
       "        id  vote_average\n",
       "0     9069           5.7\n",
       "1     2603           6.9\n",
       "2     7738           5.7\n",
       "3     1579           7.4\n",
       "4     5058           6.3\n",
       "...    ...           ...\n",
       "6995  5734           6.2\n",
       "6996  5191           7.3\n",
       "6997  5390           6.6\n",
       "6998   860           8.3\n",
       "6999  7270           5.6\n",
       "\n",
       "[7000 rows x 2 columns]"
      ]
     },
     "execution_count": 87,
     "metadata": {},
     "output_type": "execute_result"
    }
   ],
   "source": [
    "df_temp"
   ]
  },
  {
   "cell_type": "code",
   "execution_count": 88,
   "metadata": {},
   "outputs": [],
   "source": [
    "xtest.drop(columns=['id', 'genre','release_date'], inplace=True)"
   ]
  },
  {
   "cell_type": "code",
   "execution_count": 89,
   "metadata": {},
   "outputs": [
    {
     "data": {
      "text/html": [
       "<div>\n",
       "<style scoped>\n",
       "    .dataframe tbody tr th:only-of-type {\n",
       "        vertical-align: middle;\n",
       "    }\n",
       "\n",
       "    .dataframe tbody tr th {\n",
       "        vertical-align: top;\n",
       "    }\n",
       "\n",
       "    .dataframe thead th {\n",
       "        text-align: right;\n",
       "    }\n",
       "</style>\n",
       "<table border=\"1\" class=\"dataframe\">\n",
       "  <thead>\n",
       "    <tr style=\"text-align: right;\">\n",
       "      <th></th>\n",
       "      <th>original_language</th>\n",
       "      <th>original_title</th>\n",
       "      <th>popularity</th>\n",
       "      <th>overview</th>\n",
       "      <th>revenue</th>\n",
       "      <th>runtime</th>\n",
       "      <th>tagline</th>\n",
       "    </tr>\n",
       "  </thead>\n",
       "  <tbody>\n",
       "    <tr>\n",
       "      <th>0</th>\n",
       "      <td>en</td>\n",
       "      <td>Testament of Youth</td>\n",
       "      <td>11.988</td>\n",
       "      <td>Testament of Youth is a powerful story of love...</td>\n",
       "      <td>1822250</td>\n",
       "      <td>129.0</td>\n",
       "      <td>Divided by war. United by love.</td>\n",
       "    </tr>\n",
       "    <tr>\n",
       "      <th>1</th>\n",
       "      <td>en</td>\n",
       "      <td>The Secret Life of Pets</td>\n",
       "      <td>22.223</td>\n",
       "      <td>The quiet life of a terrier named Max is upend...</td>\n",
       "      <td>875457937</td>\n",
       "      <td>87.0</td>\n",
       "      <td>Think this is what they do all day?</td>\n",
       "    </tr>\n",
       "    <tr>\n",
       "      <th>2</th>\n",
       "      <td>en</td>\n",
       "      <td>How to Be a Latin Lover</td>\n",
       "      <td>40.548</td>\n",
       "      <td>An aging Latin lover gets dumped by his sugar ...</td>\n",
       "      <td>26251899</td>\n",
       "      <td>115.0</td>\n",
       "      <td>Fifty shades grayer</td>\n",
       "    </tr>\n",
       "    <tr>\n",
       "      <th>3</th>\n",
       "      <td>en</td>\n",
       "      <td>The Assassination of Jesse James by the Coward...</td>\n",
       "      <td>17.125</td>\n",
       "      <td>Outlaw Jesse James is rumored to be the 'faste...</td>\n",
       "      <td>14711793</td>\n",
       "      <td>160.0</td>\n",
       "      <td>Beyond the myth lies America's greatest betrayal</td>\n",
       "    </tr>\n",
       "    <tr>\n",
       "      <th>4</th>\n",
       "      <td>en</td>\n",
       "      <td>I, Daniel Blake</td>\n",
       "      <td>15.494</td>\n",
       "      <td>A middle aged carpenter, who requires state we...</td>\n",
       "      <td>15793051</td>\n",
       "      <td>100.0</td>\n",
       "      <td>NaN</td>\n",
       "    </tr>\n",
       "    <tr>\n",
       "      <th>...</th>\n",
       "      <td>...</td>\n",
       "      <td>...</td>\n",
       "      <td>...</td>\n",
       "      <td>...</td>\n",
       "      <td>...</td>\n",
       "      <td>...</td>\n",
       "      <td>...</td>\n",
       "    </tr>\n",
       "    <tr>\n",
       "      <th>2995</th>\n",
       "      <td>he</td>\n",
       "      <td>Nothing to Hide</td>\n",
       "      <td>16.580</td>\n",
       "      <td>Teenage girl is coping with her sexuality due ...</td>\n",
       "      <td>0</td>\n",
       "      <td>15.0</td>\n",
       "      <td>NaN</td>\n",
       "    </tr>\n",
       "    <tr>\n",
       "      <th>2996</th>\n",
       "      <td>ja</td>\n",
       "      <td>劇場版 幼女戦記</td>\n",
       "      <td>64.712</td>\n",
       "      <td>With its armies sweeping across the continent,...</td>\n",
       "      <td>0</td>\n",
       "      <td>98.0</td>\n",
       "      <td>NaN</td>\n",
       "    </tr>\n",
       "    <tr>\n",
       "      <th>2997</th>\n",
       "      <td>en</td>\n",
       "      <td>See No Evil</td>\n",
       "      <td>27.069</td>\n",
       "      <td>A group of delinquents are sent to clean the B...</td>\n",
       "      <td>18564467</td>\n",
       "      <td>84.0</td>\n",
       "      <td>This summer. Evil gets raw.</td>\n",
       "    </tr>\n",
       "    <tr>\n",
       "      <th>2998</th>\n",
       "      <td>en</td>\n",
       "      <td>One Crazy Summer: A Look Back at Gravity Falls</td>\n",
       "      <td>13.176</td>\n",
       "      <td>A look behind-the-scenes at the making of Grav...</td>\n",
       "      <td>0</td>\n",
       "      <td>105.0</td>\n",
       "      <td>Welcome to Gravity Falls!</td>\n",
       "    </tr>\n",
       "    <tr>\n",
       "      <th>2999</th>\n",
       "      <td>en</td>\n",
       "      <td>To Kill a Mockingbird</td>\n",
       "      <td>19.890</td>\n",
       "      <td>Scout Finch, 6, and her older brother Jem live...</td>\n",
       "      <td>13129846</td>\n",
       "      <td>129.0</td>\n",
       "      <td>The rare film story of a father who must expos...</td>\n",
       "    </tr>\n",
       "  </tbody>\n",
       "</table>\n",
       "<p>3000 rows × 7 columns</p>\n",
       "</div>"
      ],
      "text/plain": [
       "     original_language                                     original_title  \\\n",
       "0                   en                                 Testament of Youth   \n",
       "1                   en                            The Secret Life of Pets   \n",
       "2                   en                            How to Be a Latin Lover   \n",
       "3                   en  The Assassination of Jesse James by the Coward...   \n",
       "4                   en                                    I, Daniel Blake   \n",
       "...                ...                                                ...   \n",
       "2995                he                                    Nothing to Hide   \n",
       "2996                ja                                           劇場版 幼女戦記   \n",
       "2997                en                                        See No Evil   \n",
       "2998                en     One Crazy Summer: A Look Back at Gravity Falls   \n",
       "2999                en                              To Kill a Mockingbird   \n",
       "\n",
       "      popularity                                           overview  \\\n",
       "0         11.988  Testament of Youth is a powerful story of love...   \n",
       "1         22.223  The quiet life of a terrier named Max is upend...   \n",
       "2         40.548  An aging Latin lover gets dumped by his sugar ...   \n",
       "3         17.125  Outlaw Jesse James is rumored to be the 'faste...   \n",
       "4         15.494  A middle aged carpenter, who requires state we...   \n",
       "...          ...                                                ...   \n",
       "2995      16.580  Teenage girl is coping with her sexuality due ...   \n",
       "2996      64.712  With its armies sweeping across the continent,...   \n",
       "2997      27.069  A group of delinquents are sent to clean the B...   \n",
       "2998      13.176  A look behind-the-scenes at the making of Grav...   \n",
       "2999      19.890  Scout Finch, 6, and her older brother Jem live...   \n",
       "\n",
       "        revenue  runtime                                            tagline  \n",
       "0       1822250    129.0                    Divided by war. United by love.  \n",
       "1     875457937     87.0                Think this is what they do all day?  \n",
       "2      26251899    115.0                                Fifty shades grayer  \n",
       "3      14711793    160.0   Beyond the myth lies America's greatest betrayal  \n",
       "4      15793051    100.0                                                NaN  \n",
       "...         ...      ...                                                ...  \n",
       "2995          0     15.0                                                NaN  \n",
       "2996          0     98.0                                                NaN  \n",
       "2997   18564467     84.0                        This summer. Evil gets raw.  \n",
       "2998          0    105.0                          Welcome to Gravity Falls!  \n",
       "2999   13129846    129.0  The rare film story of a father who must expos...  \n",
       "\n",
       "[3000 rows x 7 columns]"
      ]
     },
     "execution_count": 89,
     "metadata": {},
     "output_type": "execute_result"
    }
   ],
   "source": [
    "xtest"
   ]
  },
  {
   "cell_type": "code",
   "execution_count": 90,
   "metadata": {},
   "outputs": [
    {
     "data": {
      "text/html": [
       "<div>\n",
       "<style scoped>\n",
       "    .dataframe tbody tr th:only-of-type {\n",
       "        vertical-align: middle;\n",
       "    }\n",
       "\n",
       "    .dataframe tbody tr th {\n",
       "        vertical-align: top;\n",
       "    }\n",
       "\n",
       "    .dataframe thead th {\n",
       "        text-align: right;\n",
       "    }\n",
       "</style>\n",
       "<table border=\"1\" class=\"dataframe\">\n",
       "  <thead>\n",
       "    <tr style=\"text-align: right;\">\n",
       "      <th></th>\n",
       "      <th>original_language</th>\n",
       "      <th>original_title</th>\n",
       "      <th>popularity</th>\n",
       "      <th>overview</th>\n",
       "      <th>revenue</th>\n",
       "      <th>runtime</th>\n",
       "      <th>tagline</th>\n",
       "    </tr>\n",
       "  </thead>\n",
       "  <tbody>\n",
       "    <tr>\n",
       "      <th>0</th>\n",
       "      <td>en</td>\n",
       "      <td>Testament of Youth</td>\n",
       "      <td>11.988</td>\n",
       "      <td>Testament of Youth is a powerful story of love...</td>\n",
       "      <td>1822250</td>\n",
       "      <td>129.0</td>\n",
       "      <td>Divided by war. United by love.</td>\n",
       "    </tr>\n",
       "    <tr>\n",
       "      <th>1</th>\n",
       "      <td>en</td>\n",
       "      <td>The Secret Life of Pets</td>\n",
       "      <td>22.223</td>\n",
       "      <td>The quiet life of a terrier named Max is upend...</td>\n",
       "      <td>875457937</td>\n",
       "      <td>87.0</td>\n",
       "      <td>Think this is what they do all day?</td>\n",
       "    </tr>\n",
       "    <tr>\n",
       "      <th>2</th>\n",
       "      <td>en</td>\n",
       "      <td>How to Be a Latin Lover</td>\n",
       "      <td>40.548</td>\n",
       "      <td>An aging Latin lover gets dumped by his sugar ...</td>\n",
       "      <td>26251899</td>\n",
       "      <td>115.0</td>\n",
       "      <td>Fifty shades grayer</td>\n",
       "    </tr>\n",
       "    <tr>\n",
       "      <th>3</th>\n",
       "      <td>en</td>\n",
       "      <td>The Assassination of Jesse James by the Coward...</td>\n",
       "      <td>17.125</td>\n",
       "      <td>Outlaw Jesse James is rumored to be the 'faste...</td>\n",
       "      <td>14711793</td>\n",
       "      <td>160.0</td>\n",
       "      <td>Beyond the myth lies America's greatest betrayal</td>\n",
       "    </tr>\n",
       "    <tr>\n",
       "      <th>4</th>\n",
       "      <td>en</td>\n",
       "      <td>I, Daniel Blake</td>\n",
       "      <td>15.494</td>\n",
       "      <td>A middle aged carpenter, who requires state we...</td>\n",
       "      <td>15793051</td>\n",
       "      <td>100.0</td>\n",
       "      <td>NaN</td>\n",
       "    </tr>\n",
       "    <tr>\n",
       "      <th>...</th>\n",
       "      <td>...</td>\n",
       "      <td>...</td>\n",
       "      <td>...</td>\n",
       "      <td>...</td>\n",
       "      <td>...</td>\n",
       "      <td>...</td>\n",
       "      <td>...</td>\n",
       "    </tr>\n",
       "    <tr>\n",
       "      <th>2995</th>\n",
       "      <td>he</td>\n",
       "      <td>Nothing to Hide</td>\n",
       "      <td>16.580</td>\n",
       "      <td>Teenage girl is coping with her sexuality due ...</td>\n",
       "      <td>0</td>\n",
       "      <td>15.0</td>\n",
       "      <td>NaN</td>\n",
       "    </tr>\n",
       "    <tr>\n",
       "      <th>2996</th>\n",
       "      <td>ja</td>\n",
       "      <td>劇場版 幼女戦記</td>\n",
       "      <td>64.712</td>\n",
       "      <td>With its armies sweeping across the continent,...</td>\n",
       "      <td>0</td>\n",
       "      <td>98.0</td>\n",
       "      <td>NaN</td>\n",
       "    </tr>\n",
       "    <tr>\n",
       "      <th>2997</th>\n",
       "      <td>en</td>\n",
       "      <td>See No Evil</td>\n",
       "      <td>27.069</td>\n",
       "      <td>A group of delinquents are sent to clean the B...</td>\n",
       "      <td>18564467</td>\n",
       "      <td>84.0</td>\n",
       "      <td>This summer. Evil gets raw.</td>\n",
       "    </tr>\n",
       "    <tr>\n",
       "      <th>2998</th>\n",
       "      <td>en</td>\n",
       "      <td>One Crazy Summer: A Look Back at Gravity Falls</td>\n",
       "      <td>13.176</td>\n",
       "      <td>A look behind-the-scenes at the making of Grav...</td>\n",
       "      <td>0</td>\n",
       "      <td>105.0</td>\n",
       "      <td>Welcome to Gravity Falls!</td>\n",
       "    </tr>\n",
       "    <tr>\n",
       "      <th>2999</th>\n",
       "      <td>en</td>\n",
       "      <td>To Kill a Mockingbird</td>\n",
       "      <td>19.890</td>\n",
       "      <td>Scout Finch, 6, and her older brother Jem live...</td>\n",
       "      <td>13129846</td>\n",
       "      <td>129.0</td>\n",
       "      <td>The rare film story of a father who must expos...</td>\n",
       "    </tr>\n",
       "  </tbody>\n",
       "</table>\n",
       "<p>3000 rows × 7 columns</p>\n",
       "</div>"
      ],
      "text/plain": [
       "     original_language                                     original_title  \\\n",
       "0                   en                                 Testament of Youth   \n",
       "1                   en                            The Secret Life of Pets   \n",
       "2                   en                            How to Be a Latin Lover   \n",
       "3                   en  The Assassination of Jesse James by the Coward...   \n",
       "4                   en                                    I, Daniel Blake   \n",
       "...                ...                                                ...   \n",
       "2995                he                                    Nothing to Hide   \n",
       "2996                ja                                           劇場版 幼女戦記   \n",
       "2997                en                                        See No Evil   \n",
       "2998                en     One Crazy Summer: A Look Back at Gravity Falls   \n",
       "2999                en                              To Kill a Mockingbird   \n",
       "\n",
       "      popularity                                           overview  \\\n",
       "0         11.988  Testament of Youth is a powerful story of love...   \n",
       "1         22.223  The quiet life of a terrier named Max is upend...   \n",
       "2         40.548  An aging Latin lover gets dumped by his sugar ...   \n",
       "3         17.125  Outlaw Jesse James is rumored to be the 'faste...   \n",
       "4         15.494  A middle aged carpenter, who requires state we...   \n",
       "...          ...                                                ...   \n",
       "2995      16.580  Teenage girl is coping with her sexuality due ...   \n",
       "2996      64.712  With its armies sweeping across the continent,...   \n",
       "2997      27.069  A group of delinquents are sent to clean the B...   \n",
       "2998      13.176  A look behind-the-scenes at the making of Grav...   \n",
       "2999      19.890  Scout Finch, 6, and her older brother Jem live...   \n",
       "\n",
       "        revenue  runtime                                            tagline  \n",
       "0       1822250    129.0                    Divided by war. United by love.  \n",
       "1     875457937     87.0                Think this is what they do all day?  \n",
       "2      26251899    115.0                                Fifty shades grayer  \n",
       "3      14711793    160.0   Beyond the myth lies America's greatest betrayal  \n",
       "4      15793051    100.0                                                NaN  \n",
       "...         ...      ...                                                ...  \n",
       "2995          0     15.0                                                NaN  \n",
       "2996          0     98.0                                                NaN  \n",
       "2997   18564467     84.0                        This summer. Evil gets raw.  \n",
       "2998          0    105.0                          Welcome to Gravity Falls!  \n",
       "2999   13129846    129.0  The rare film story of a father who must expos...  \n",
       "\n",
       "[3000 rows x 7 columns]"
      ]
     },
     "execution_count": 90,
     "metadata": {},
     "output_type": "execute_result"
    }
   ],
   "source": [
    "xtest"
   ]
  },
  {
   "cell_type": "code",
   "execution_count": 97,
   "metadata": {},
   "outputs": [],
   "source": [
    "finaldf = pd.merge(df_append, df_temp, on=\"id\")"
   ]
  },
  {
   "cell_type": "code",
   "execution_count": 98,
   "metadata": {},
   "outputs": [
    {
     "data": {
      "text/html": [
       "<div>\n",
       "<style scoped>\n",
       "    .dataframe tbody tr th:only-of-type {\n",
       "        vertical-align: middle;\n",
       "    }\n",
       "\n",
       "    .dataframe tbody tr th {\n",
       "        vertical-align: top;\n",
       "    }\n",
       "\n",
       "    .dataframe thead th {\n",
       "        text-align: right;\n",
       "    }\n",
       "</style>\n",
       "<table border=\"1\" class=\"dataframe\">\n",
       "  <thead>\n",
       "    <tr style=\"text-align: right;\">\n",
       "      <th></th>\n",
       "      <th>id</th>\n",
       "      <th>original_language</th>\n",
       "      <th>original_title</th>\n",
       "      <th>popularity</th>\n",
       "      <th>release_date</th>\n",
       "      <th>genre</th>\n",
       "      <th>overview</th>\n",
       "      <th>revenue</th>\n",
       "      <th>runtime</th>\n",
       "      <th>tagline</th>\n",
       "      <th>vote_average</th>\n",
       "    </tr>\n",
       "  </thead>\n",
       "  <tbody>\n",
       "    <tr>\n",
       "      <th>0</th>\n",
       "      <td>9069</td>\n",
       "      <td>en</td>\n",
       "      <td>The Operative</td>\n",
       "      <td>10.142</td>\n",
       "      <td>7/24/2019</td>\n",
       "      <td>['Drama', 'Thriller']</td>\n",
       "      <td>A young Western woman is recruited by the Moss...</td>\n",
       "      <td>0</td>\n",
       "      <td>120.0</td>\n",
       "      <td>Every secret has a price.</td>\n",
       "      <td>5.7</td>\n",
       "    </tr>\n",
       "    <tr>\n",
       "      <th>1</th>\n",
       "      <td>2603</td>\n",
       "      <td>ja</td>\n",
       "      <td>デスノート the Last name</td>\n",
       "      <td>28.346</td>\n",
       "      <td>10/28/2006</td>\n",
       "      <td>['Fantasy', 'Thriller', 'Mystery']</td>\n",
       "      <td>In the second installment of the Death Note fi...</td>\n",
       "      <td>50710400</td>\n",
       "      <td>141.0</td>\n",
       "      <td>The last name to be written in the DEATH NOTE....</td>\n",
       "      <td>6.9</td>\n",
       "    </tr>\n",
       "    <tr>\n",
       "      <th>2</th>\n",
       "      <td>7738</td>\n",
       "      <td>fr</td>\n",
       "      <td>Sibyl</td>\n",
       "      <td>13.098</td>\n",
       "      <td>5/24/2019</td>\n",
       "      <td>['Drama', 'Comedy']</td>\n",
       "      <td>Sibyl, a jaded psychotherapist, returns to her...</td>\n",
       "      <td>0</td>\n",
       "      <td>100.0</td>\n",
       "      <td>NaN</td>\n",
       "      <td>5.7</td>\n",
       "    </tr>\n",
       "    <tr>\n",
       "      <th>3</th>\n",
       "      <td>1579</td>\n",
       "      <td>en</td>\n",
       "      <td>Teen Titans Go! To the Movies</td>\n",
       "      <td>42.672</td>\n",
       "      <td>7/27/2018</td>\n",
       "      <td>['Animation', 'Action', 'Comedy', 'Science Fic...</td>\n",
       "      <td>All the major DC superheroes are starring in t...</td>\n",
       "      <td>28646544</td>\n",
       "      <td>85.0</td>\n",
       "      <td>The superhero movie to end all superhero movie...</td>\n",
       "      <td>7.4</td>\n",
       "    </tr>\n",
       "    <tr>\n",
       "      <th>4</th>\n",
       "      <td>5058</td>\n",
       "      <td>en</td>\n",
       "      <td>The Crush</td>\n",
       "      <td>20.728</td>\n",
       "      <td>4/2/1993</td>\n",
       "      <td>['Drama', 'Thriller']</td>\n",
       "      <td>A precocious and obsessive teenager develops a...</td>\n",
       "      <td>13609396</td>\n",
       "      <td>89.0</td>\n",
       "      <td>He thought it was just a crush. He was dead wr...</td>\n",
       "      <td>6.3</td>\n",
       "    </tr>\n",
       "    <tr>\n",
       "      <th>...</th>\n",
       "      <td>...</td>\n",
       "      <td>...</td>\n",
       "      <td>...</td>\n",
       "      <td>...</td>\n",
       "      <td>...</td>\n",
       "      <td>...</td>\n",
       "      <td>...</td>\n",
       "      <td>...</td>\n",
       "      <td>...</td>\n",
       "      <td>...</td>\n",
       "      <td>...</td>\n",
       "    </tr>\n",
       "    <tr>\n",
       "      <th>6995</th>\n",
       "      <td>5734</td>\n",
       "      <td>nl</td>\n",
       "      <td>De Familie Claus</td>\n",
       "      <td>13.863</td>\n",
       "      <td>12/7/2020</td>\n",
       "      <td>['Family', 'Fantasy']</td>\n",
       "      <td>When his grandfather suddenly falls ill, holid...</td>\n",
       "      <td>0</td>\n",
       "      <td>96.0</td>\n",
       "      <td>NaN</td>\n",
       "      <td>6.2</td>\n",
       "    </tr>\n",
       "    <tr>\n",
       "      <th>6996</th>\n",
       "      <td>5191</td>\n",
       "      <td>en</td>\n",
       "      <td>EverAfter</td>\n",
       "      <td>17.171</td>\n",
       "      <td>7/31/1998</td>\n",
       "      <td>['Drama', 'Romance', 'Comedy']</td>\n",
       "      <td>A unique 16th century woman, Danielle possesse...</td>\n",
       "      <td>65705772</td>\n",
       "      <td>121.0</td>\n",
       "      <td>Desire. Defy. Escape.</td>\n",
       "      <td>7.3</td>\n",
       "    </tr>\n",
       "    <tr>\n",
       "      <th>6997</th>\n",
       "      <td>5390</td>\n",
       "      <td>en</td>\n",
       "      <td>Book of Dragons</td>\n",
       "      <td>11.337</td>\n",
       "      <td>11/15/2011</td>\n",
       "      <td>['Fantasy', 'Animation', 'Action', 'Comedy', '...</td>\n",
       "      <td>So you want to be a dragon trainer do you? Pre...</td>\n",
       "      <td>0</td>\n",
       "      <td>18.0</td>\n",
       "      <td>All New Dragons</td>\n",
       "      <td>6.6</td>\n",
       "    </tr>\n",
       "    <tr>\n",
       "      <th>6998</th>\n",
       "      <td>860</td>\n",
       "      <td>en</td>\n",
       "      <td>The Hate U Give</td>\n",
       "      <td>99.513</td>\n",
       "      <td>10/19/2018</td>\n",
       "      <td>['Crime', 'Drama']</td>\n",
       "      <td>Raised in a poverty-stricken slum, a 16-year-o...</td>\n",
       "      <td>34934009</td>\n",
       "      <td>133.0</td>\n",
       "      <td>Two worlds. One voice. No going back.</td>\n",
       "      <td>8.3</td>\n",
       "    </tr>\n",
       "    <tr>\n",
       "      <th>6999</th>\n",
       "      <td>7270</td>\n",
       "      <td>en</td>\n",
       "      <td>My Perfect Romance</td>\n",
       "      <td>13.196</td>\n",
       "      <td>2/14/2018</td>\n",
       "      <td>['Romance']</td>\n",
       "      <td>Newly appointed CEO of Robinson Tech, Wes Robi...</td>\n",
       "      <td>0</td>\n",
       "      <td>91.0</td>\n",
       "      <td>NaN</td>\n",
       "      <td>5.6</td>\n",
       "    </tr>\n",
       "  </tbody>\n",
       "</table>\n",
       "<p>7000 rows × 11 columns</p>\n",
       "</div>"
      ],
      "text/plain": [
       "        id original_language                 original_title  popularity  \\\n",
       "0     9069                en                  The Operative      10.142   \n",
       "1     2603                ja            デスノート the Last name      28.346   \n",
       "2     7738                fr                          Sibyl      13.098   \n",
       "3     1579                en  Teen Titans Go! To the Movies      42.672   \n",
       "4     5058                en                      The Crush      20.728   \n",
       "...    ...               ...                            ...         ...   \n",
       "6995  5734                nl               De Familie Claus      13.863   \n",
       "6996  5191                en                      EverAfter      17.171   \n",
       "6997  5390                en                Book of Dragons      11.337   \n",
       "6998   860                en                The Hate U Give      99.513   \n",
       "6999  7270                en             My Perfect Romance      13.196   \n",
       "\n",
       "     release_date                                              genre  \\\n",
       "0       7/24/2019                              ['Drama', 'Thriller']   \n",
       "1      10/28/2006                 ['Fantasy', 'Thriller', 'Mystery']   \n",
       "2       5/24/2019                                ['Drama', 'Comedy']   \n",
       "3       7/27/2018  ['Animation', 'Action', 'Comedy', 'Science Fic...   \n",
       "4        4/2/1993                              ['Drama', 'Thriller']   \n",
       "...           ...                                                ...   \n",
       "6995    12/7/2020                              ['Family', 'Fantasy']   \n",
       "6996    7/31/1998                     ['Drama', 'Romance', 'Comedy']   \n",
       "6997   11/15/2011  ['Fantasy', 'Animation', 'Action', 'Comedy', '...   \n",
       "6998   10/19/2018                                 ['Crime', 'Drama']   \n",
       "6999    2/14/2018                                        ['Romance']   \n",
       "\n",
       "                                               overview   revenue  runtime  \\\n",
       "0     A young Western woman is recruited by the Moss...         0    120.0   \n",
       "1     In the second installment of the Death Note fi...  50710400    141.0   \n",
       "2     Sibyl, a jaded psychotherapist, returns to her...         0    100.0   \n",
       "3     All the major DC superheroes are starring in t...  28646544     85.0   \n",
       "4     A precocious and obsessive teenager develops a...  13609396     89.0   \n",
       "...                                                 ...       ...      ...   \n",
       "6995  When his grandfather suddenly falls ill, holid...         0     96.0   \n",
       "6996  A unique 16th century woman, Danielle possesse...  65705772    121.0   \n",
       "6997  So you want to be a dragon trainer do you? Pre...         0     18.0   \n",
       "6998  Raised in a poverty-stricken slum, a 16-year-o...  34934009    133.0   \n",
       "6999  Newly appointed CEO of Robinson Tech, Wes Robi...         0     91.0   \n",
       "\n",
       "                                                tagline  vote_average  \n",
       "0                             Every secret has a price.           5.7  \n",
       "1     The last name to be written in the DEATH NOTE....           6.9  \n",
       "2                                                   NaN           5.7  \n",
       "3     The superhero movie to end all superhero movie...           7.4  \n",
       "4     He thought it was just a crush. He was dead wr...           6.3  \n",
       "...                                                 ...           ...  \n",
       "6995                                                NaN           6.2  \n",
       "6996                              Desire. Defy. Escape.           7.3  \n",
       "6997                                    All New Dragons           6.6  \n",
       "6998              Two worlds. One voice. No going back.           8.3  \n",
       "6999                                                NaN           5.6  \n",
       "\n",
       "[7000 rows x 11 columns]"
      ]
     },
     "execution_count": 98,
     "metadata": {},
     "output_type": "execute_result"
    }
   ],
   "source": [
    "finaldf"
   ]
  },
  {
   "cell_type": "code",
   "execution_count": 99,
   "metadata": {},
   "outputs": [
    {
     "data": {
      "text/html": [
       "<div>\n",
       "<style scoped>\n",
       "    .dataframe tbody tr th:only-of-type {\n",
       "        vertical-align: middle;\n",
       "    }\n",
       "\n",
       "    .dataframe tbody tr th {\n",
       "        vertical-align: top;\n",
       "    }\n",
       "\n",
       "    .dataframe thead th {\n",
       "        text-align: right;\n",
       "    }\n",
       "</style>\n",
       "<table border=\"1\" class=\"dataframe\">\n",
       "  <thead>\n",
       "    <tr style=\"text-align: right;\">\n",
       "      <th></th>\n",
       "      <th>id</th>\n",
       "      <th>original_language</th>\n",
       "      <th>original_title</th>\n",
       "      <th>popularity</th>\n",
       "      <th>overview</th>\n",
       "      <th>revenue</th>\n",
       "      <th>runtime</th>\n",
       "      <th>tagline</th>\n",
       "      <th>vote_average</th>\n",
       "    </tr>\n",
       "  </thead>\n",
       "  <tbody>\n",
       "    <tr>\n",
       "      <th>0</th>\n",
       "      <td>9069</td>\n",
       "      <td>en</td>\n",
       "      <td>The Operative</td>\n",
       "      <td>10.142</td>\n",
       "      <td>A young Western woman is recruited by the Moss...</td>\n",
       "      <td>0</td>\n",
       "      <td>120.0</td>\n",
       "      <td>Every secret has a price.</td>\n",
       "      <td>5.7</td>\n",
       "    </tr>\n",
       "    <tr>\n",
       "      <th>1</th>\n",
       "      <td>2603</td>\n",
       "      <td>ja</td>\n",
       "      <td>デスノート the Last name</td>\n",
       "      <td>28.346</td>\n",
       "      <td>In the second installment of the Death Note fi...</td>\n",
       "      <td>50710400</td>\n",
       "      <td>141.0</td>\n",
       "      <td>The last name to be written in the DEATH NOTE....</td>\n",
       "      <td>6.9</td>\n",
       "    </tr>\n",
       "    <tr>\n",
       "      <th>2</th>\n",
       "      <td>7738</td>\n",
       "      <td>fr</td>\n",
       "      <td>Sibyl</td>\n",
       "      <td>13.098</td>\n",
       "      <td>Sibyl, a jaded psychotherapist, returns to her...</td>\n",
       "      <td>0</td>\n",
       "      <td>100.0</td>\n",
       "      <td>NaN</td>\n",
       "      <td>5.7</td>\n",
       "    </tr>\n",
       "    <tr>\n",
       "      <th>3</th>\n",
       "      <td>1579</td>\n",
       "      <td>en</td>\n",
       "      <td>Teen Titans Go! To the Movies</td>\n",
       "      <td>42.672</td>\n",
       "      <td>All the major DC superheroes are starring in t...</td>\n",
       "      <td>28646544</td>\n",
       "      <td>85.0</td>\n",
       "      <td>The superhero movie to end all superhero movie...</td>\n",
       "      <td>7.4</td>\n",
       "    </tr>\n",
       "    <tr>\n",
       "      <th>4</th>\n",
       "      <td>5058</td>\n",
       "      <td>en</td>\n",
       "      <td>The Crush</td>\n",
       "      <td>20.728</td>\n",
       "      <td>A precocious and obsessive teenager develops a...</td>\n",
       "      <td>13609396</td>\n",
       "      <td>89.0</td>\n",
       "      <td>He thought it was just a crush. He was dead wr...</td>\n",
       "      <td>6.3</td>\n",
       "    </tr>\n",
       "    <tr>\n",
       "      <th>...</th>\n",
       "      <td>...</td>\n",
       "      <td>...</td>\n",
       "      <td>...</td>\n",
       "      <td>...</td>\n",
       "      <td>...</td>\n",
       "      <td>...</td>\n",
       "      <td>...</td>\n",
       "      <td>...</td>\n",
       "      <td>...</td>\n",
       "    </tr>\n",
       "    <tr>\n",
       "      <th>6995</th>\n",
       "      <td>5734</td>\n",
       "      <td>nl</td>\n",
       "      <td>De Familie Claus</td>\n",
       "      <td>13.863</td>\n",
       "      <td>When his grandfather suddenly falls ill, holid...</td>\n",
       "      <td>0</td>\n",
       "      <td>96.0</td>\n",
       "      <td>NaN</td>\n",
       "      <td>6.2</td>\n",
       "    </tr>\n",
       "    <tr>\n",
       "      <th>6996</th>\n",
       "      <td>5191</td>\n",
       "      <td>en</td>\n",
       "      <td>EverAfter</td>\n",
       "      <td>17.171</td>\n",
       "      <td>A unique 16th century woman, Danielle possesse...</td>\n",
       "      <td>65705772</td>\n",
       "      <td>121.0</td>\n",
       "      <td>Desire. Defy. Escape.</td>\n",
       "      <td>7.3</td>\n",
       "    </tr>\n",
       "    <tr>\n",
       "      <th>6997</th>\n",
       "      <td>5390</td>\n",
       "      <td>en</td>\n",
       "      <td>Book of Dragons</td>\n",
       "      <td>11.337</td>\n",
       "      <td>So you want to be a dragon trainer do you? Pre...</td>\n",
       "      <td>0</td>\n",
       "      <td>18.0</td>\n",
       "      <td>All New Dragons</td>\n",
       "      <td>6.6</td>\n",
       "    </tr>\n",
       "    <tr>\n",
       "      <th>6998</th>\n",
       "      <td>860</td>\n",
       "      <td>en</td>\n",
       "      <td>The Hate U Give</td>\n",
       "      <td>99.513</td>\n",
       "      <td>Raised in a poverty-stricken slum, a 16-year-o...</td>\n",
       "      <td>34934009</td>\n",
       "      <td>133.0</td>\n",
       "      <td>Two worlds. One voice. No going back.</td>\n",
       "      <td>8.3</td>\n",
       "    </tr>\n",
       "    <tr>\n",
       "      <th>6999</th>\n",
       "      <td>7270</td>\n",
       "      <td>en</td>\n",
       "      <td>My Perfect Romance</td>\n",
       "      <td>13.196</td>\n",
       "      <td>Newly appointed CEO of Robinson Tech, Wes Robi...</td>\n",
       "      <td>0</td>\n",
       "      <td>91.0</td>\n",
       "      <td>NaN</td>\n",
       "      <td>5.6</td>\n",
       "    </tr>\n",
       "  </tbody>\n",
       "</table>\n",
       "<p>7000 rows × 9 columns</p>\n",
       "</div>"
      ],
      "text/plain": [
       "        id original_language                 original_title  popularity  \\\n",
       "0     9069                en                  The Operative      10.142   \n",
       "1     2603                ja            デスノート the Last name      28.346   \n",
       "2     7738                fr                          Sibyl      13.098   \n",
       "3     1579                en  Teen Titans Go! To the Movies      42.672   \n",
       "4     5058                en                      The Crush      20.728   \n",
       "...    ...               ...                            ...         ...   \n",
       "6995  5734                nl               De Familie Claus      13.863   \n",
       "6996  5191                en                      EverAfter      17.171   \n",
       "6997  5390                en                Book of Dragons      11.337   \n",
       "6998   860                en                The Hate U Give      99.513   \n",
       "6999  7270                en             My Perfect Romance      13.196   \n",
       "\n",
       "                                               overview   revenue  runtime  \\\n",
       "0     A young Western woman is recruited by the Moss...         0    120.0   \n",
       "1     In the second installment of the Death Note fi...  50710400    141.0   \n",
       "2     Sibyl, a jaded psychotherapist, returns to her...         0    100.0   \n",
       "3     All the major DC superheroes are starring in t...  28646544     85.0   \n",
       "4     A precocious and obsessive teenager develops a...  13609396     89.0   \n",
       "...                                                 ...       ...      ...   \n",
       "6995  When his grandfather suddenly falls ill, holid...         0     96.0   \n",
       "6996  A unique 16th century woman, Danielle possesse...  65705772    121.0   \n",
       "6997  So you want to be a dragon trainer do you? Pre...         0     18.0   \n",
       "6998  Raised in a poverty-stricken slum, a 16-year-o...  34934009    133.0   \n",
       "6999  Newly appointed CEO of Robinson Tech, Wes Robi...         0     91.0   \n",
       "\n",
       "                                                tagline  vote_average  \n",
       "0                             Every secret has a price.           5.7  \n",
       "1     The last name to be written in the DEATH NOTE....           6.9  \n",
       "2                                                   NaN           5.7  \n",
       "3     The superhero movie to end all superhero movie...           7.4  \n",
       "4     He thought it was just a crush. He was dead wr...           6.3  \n",
       "...                                                 ...           ...  \n",
       "6995                                                NaN           6.2  \n",
       "6996                              Desire. Defy. Escape.           7.3  \n",
       "6997                                    All New Dragons           6.6  \n",
       "6998              Two worlds. One voice. No going back.           8.3  \n",
       "6999                                                NaN           5.6  \n",
       "\n",
       "[7000 rows x 9 columns]"
      ]
     },
     "execution_count": 99,
     "metadata": {},
     "output_type": "execute_result"
    }
   ],
   "source": [
    "finaldf.drop(columns=['release_date', 'genre'])"
   ]
  },
  {
   "cell_type": "code",
   "execution_count": 100,
   "metadata": {},
   "outputs": [],
   "source": [
    "find_revenue_not_zero = finaldf[finaldf.revenue > 0]"
   ]
  },
  {
   "cell_type": "code",
   "execution_count": 101,
   "metadata": {},
   "outputs": [
    {
     "name": "stderr",
     "output_type": "stream",
     "text": [
      "/var/folders/6k/htbjx7l93ldb6p54pmscffxh0000gn/T/ipykernel_1418/2462131102.py:1: SettingWithCopyWarning: \n",
      "A value is trying to be set on a copy of a slice from a DataFrame\n",
      "\n",
      "See the caveats in the documentation: https://pandas.pydata.org/pandas-docs/stable/user_guide/indexing.html#returning-a-view-versus-a-copy\n",
      "  find_revenue_not_zero.drop(columns=['release_date', 'genre'], inplace=True)\n"
     ]
    }
   ],
   "source": [
    "find_revenue_not_zero.drop(columns=['release_date', 'genre'], inplace=True)"
   ]
  },
  {
   "cell_type": "code",
   "execution_count": 102,
   "metadata": {},
   "outputs": [
    {
     "data": {
      "text/html": [
       "<div>\n",
       "<style scoped>\n",
       "    .dataframe tbody tr th:only-of-type {\n",
       "        vertical-align: middle;\n",
       "    }\n",
       "\n",
       "    .dataframe tbody tr th {\n",
       "        vertical-align: top;\n",
       "    }\n",
       "\n",
       "    .dataframe thead th {\n",
       "        text-align: right;\n",
       "    }\n",
       "</style>\n",
       "<table border=\"1\" class=\"dataframe\">\n",
       "  <thead>\n",
       "    <tr style=\"text-align: right;\">\n",
       "      <th></th>\n",
       "      <th>id</th>\n",
       "      <th>original_language</th>\n",
       "      <th>original_title</th>\n",
       "      <th>popularity</th>\n",
       "      <th>overview</th>\n",
       "      <th>revenue</th>\n",
       "      <th>runtime</th>\n",
       "      <th>tagline</th>\n",
       "      <th>vote_average</th>\n",
       "    </tr>\n",
       "  </thead>\n",
       "  <tbody>\n",
       "    <tr>\n",
       "      <th>1</th>\n",
       "      <td>2603</td>\n",
       "      <td>ja</td>\n",
       "      <td>デスノート the Last name</td>\n",
       "      <td>28.346</td>\n",
       "      <td>In the second installment of the Death Note fi...</td>\n",
       "      <td>50710400</td>\n",
       "      <td>141.0</td>\n",
       "      <td>The last name to be written in the DEATH NOTE....</td>\n",
       "      <td>6.9</td>\n",
       "    </tr>\n",
       "    <tr>\n",
       "      <th>3</th>\n",
       "      <td>1579</td>\n",
       "      <td>en</td>\n",
       "      <td>Teen Titans Go! To the Movies</td>\n",
       "      <td>42.672</td>\n",
       "      <td>All the major DC superheroes are starring in t...</td>\n",
       "      <td>28646544</td>\n",
       "      <td>85.0</td>\n",
       "      <td>The superhero movie to end all superhero movie...</td>\n",
       "      <td>7.4</td>\n",
       "    </tr>\n",
       "    <tr>\n",
       "      <th>4</th>\n",
       "      <td>5058</td>\n",
       "      <td>en</td>\n",
       "      <td>The Crush</td>\n",
       "      <td>20.728</td>\n",
       "      <td>A precocious and obsessive teenager develops a...</td>\n",
       "      <td>13609396</td>\n",
       "      <td>89.0</td>\n",
       "      <td>He thought it was just a crush. He was dead wr...</td>\n",
       "      <td>6.3</td>\n",
       "    </tr>\n",
       "    <tr>\n",
       "      <th>10</th>\n",
       "      <td>5601</td>\n",
       "      <td>en</td>\n",
       "      <td>DuckTales: The Movie - Treasure of the Lost Lamp</td>\n",
       "      <td>14.493</td>\n",
       "      <td>With his nephews and niece, everyone's favorit...</td>\n",
       "      <td>18115724</td>\n",
       "      <td>74.0</td>\n",
       "      <td>NaN</td>\n",
       "      <td>6.8</td>\n",
       "    </tr>\n",
       "    <tr>\n",
       "      <th>11</th>\n",
       "      <td>5231</td>\n",
       "      <td>en</td>\n",
       "      <td>Escape from New York</td>\n",
       "      <td>17.854</td>\n",
       "      <td>In the future, crime is out of control and New...</td>\n",
       "      <td>50244700</td>\n",
       "      <td>99.0</td>\n",
       "      <td>1997. New York city is now a maximum security ...</td>\n",
       "      <td>7.1</td>\n",
       "    </tr>\n",
       "    <tr>\n",
       "      <th>...</th>\n",
       "      <td>...</td>\n",
       "      <td>...</td>\n",
       "      <td>...</td>\n",
       "      <td>...</td>\n",
       "      <td>...</td>\n",
       "      <td>...</td>\n",
       "      <td>...</td>\n",
       "      <td>...</td>\n",
       "      <td>...</td>\n",
       "    </tr>\n",
       "    <tr>\n",
       "      <th>6990</th>\n",
       "      <td>8322</td>\n",
       "      <td>en</td>\n",
       "      <td>Forever Young</td>\n",
       "      <td>10.729</td>\n",
       "      <td>A 1939 test pilot asks his best friend to use ...</td>\n",
       "      <td>127956187</td>\n",
       "      <td>102.0</td>\n",
       "      <td>Time waits for no man, but true love waits for...</td>\n",
       "      <td>6.5</td>\n",
       "    </tr>\n",
       "    <tr>\n",
       "      <th>6992</th>\n",
       "      <td>4426</td>\n",
       "      <td>en</td>\n",
       "      <td>Premium Rush</td>\n",
       "      <td>18.299</td>\n",
       "      <td>In Manhattan, a bike messenger picks up an env...</td>\n",
       "      <td>31083599</td>\n",
       "      <td>91.0</td>\n",
       "      <td>Ride Like Hell</td>\n",
       "      <td>6.3</td>\n",
       "    </tr>\n",
       "    <tr>\n",
       "      <th>6993</th>\n",
       "      <td>466</td>\n",
       "      <td>en</td>\n",
       "      <td>John Wick: Chapter 3 - Parabellum</td>\n",
       "      <td>115.765</td>\n",
       "      <td>Super-assassin John Wick returns with a $14 mi...</td>\n",
       "      <td>326709727</td>\n",
       "      <td>130.0</td>\n",
       "      <td>The Grace Period Is Over</td>\n",
       "      <td>7.4</td>\n",
       "    </tr>\n",
       "    <tr>\n",
       "      <th>6996</th>\n",
       "      <td>5191</td>\n",
       "      <td>en</td>\n",
       "      <td>EverAfter</td>\n",
       "      <td>17.171</td>\n",
       "      <td>A unique 16th century woman, Danielle possesse...</td>\n",
       "      <td>65705772</td>\n",
       "      <td>121.0</td>\n",
       "      <td>Desire. Defy. Escape.</td>\n",
       "      <td>7.3</td>\n",
       "    </tr>\n",
       "    <tr>\n",
       "      <th>6998</th>\n",
       "      <td>860</td>\n",
       "      <td>en</td>\n",
       "      <td>The Hate U Give</td>\n",
       "      <td>99.513</td>\n",
       "      <td>Raised in a poverty-stricken slum, a 16-year-o...</td>\n",
       "      <td>34934009</td>\n",
       "      <td>133.0</td>\n",
       "      <td>Two worlds. One voice. No going back.</td>\n",
       "      <td>8.3</td>\n",
       "    </tr>\n",
       "  </tbody>\n",
       "</table>\n",
       "<p>3730 rows × 9 columns</p>\n",
       "</div>"
      ],
      "text/plain": [
       "        id original_language  \\\n",
       "1     2603                ja   \n",
       "3     1579                en   \n",
       "4     5058                en   \n",
       "10    5601                en   \n",
       "11    5231                en   \n",
       "...    ...               ...   \n",
       "6990  8322                en   \n",
       "6992  4426                en   \n",
       "6993   466                en   \n",
       "6996  5191                en   \n",
       "6998   860                en   \n",
       "\n",
       "                                        original_title  popularity  \\\n",
       "1                                  デスノート the Last name      28.346   \n",
       "3                        Teen Titans Go! To the Movies      42.672   \n",
       "4                                            The Crush      20.728   \n",
       "10    DuckTales: The Movie - Treasure of the Lost Lamp      14.493   \n",
       "11                                Escape from New York      17.854   \n",
       "...                                                ...         ...   \n",
       "6990                                     Forever Young      10.729   \n",
       "6992                                      Premium Rush      18.299   \n",
       "6993                 John Wick: Chapter 3 - Parabellum     115.765   \n",
       "6996                                         EverAfter      17.171   \n",
       "6998                                   The Hate U Give      99.513   \n",
       "\n",
       "                                               overview    revenue  runtime  \\\n",
       "1     In the second installment of the Death Note fi...   50710400    141.0   \n",
       "3     All the major DC superheroes are starring in t...   28646544     85.0   \n",
       "4     A precocious and obsessive teenager develops a...   13609396     89.0   \n",
       "10    With his nephews and niece, everyone's favorit...   18115724     74.0   \n",
       "11    In the future, crime is out of control and New...   50244700     99.0   \n",
       "...                                                 ...        ...      ...   \n",
       "6990  A 1939 test pilot asks his best friend to use ...  127956187    102.0   \n",
       "6992  In Manhattan, a bike messenger picks up an env...   31083599     91.0   \n",
       "6993  Super-assassin John Wick returns with a $14 mi...  326709727    130.0   \n",
       "6996  A unique 16th century woman, Danielle possesse...   65705772    121.0   \n",
       "6998  Raised in a poverty-stricken slum, a 16-year-o...   34934009    133.0   \n",
       "\n",
       "                                                tagline  vote_average  \n",
       "1     The last name to be written in the DEATH NOTE....           6.9  \n",
       "3     The superhero movie to end all superhero movie...           7.4  \n",
       "4     He thought it was just a crush. He was dead wr...           6.3  \n",
       "10                                                  NaN           6.8  \n",
       "11    1997. New York city is now a maximum security ...           7.1  \n",
       "...                                                 ...           ...  \n",
       "6990  Time waits for no man, but true love waits for...           6.5  \n",
       "6992                                     Ride Like Hell           6.3  \n",
       "6993                           The Grace Period Is Over           7.4  \n",
       "6996                              Desire. Defy. Escape.           7.3  \n",
       "6998              Two worlds. One voice. No going back.           8.3  \n",
       "\n",
       "[3730 rows x 9 columns]"
      ]
     },
     "execution_count": 102,
     "metadata": {},
     "output_type": "execute_result"
    }
   ],
   "source": [
    "find_revenue_not_zero"
   ]
  },
  {
   "cell_type": "code",
   "execution_count": 103,
   "metadata": {},
   "outputs": [],
   "source": [
    "X_train = find_revenue_not_zero\n",
    "X_train = X_train.drop(columns=['id','vote_average'])"
   ]
  },
  {
   "cell_type": "code",
   "execution_count": 105,
   "metadata": {},
   "outputs": [
    {
     "data": {
      "text/html": [
       "<div>\n",
       "<style scoped>\n",
       "    .dataframe tbody tr th:only-of-type {\n",
       "        vertical-align: middle;\n",
       "    }\n",
       "\n",
       "    .dataframe tbody tr th {\n",
       "        vertical-align: top;\n",
       "    }\n",
       "\n",
       "    .dataframe thead th {\n",
       "        text-align: right;\n",
       "    }\n",
       "</style>\n",
       "<table border=\"1\" class=\"dataframe\">\n",
       "  <thead>\n",
       "    <tr style=\"text-align: right;\">\n",
       "      <th></th>\n",
       "      <th>original_language</th>\n",
       "      <th>original_title</th>\n",
       "      <th>popularity</th>\n",
       "      <th>overview</th>\n",
       "      <th>revenue</th>\n",
       "      <th>runtime</th>\n",
       "      <th>tagline</th>\n",
       "    </tr>\n",
       "  </thead>\n",
       "  <tbody>\n",
       "    <tr>\n",
       "      <th>1</th>\n",
       "      <td>ja</td>\n",
       "      <td>デスノート the Last name</td>\n",
       "      <td>28.346</td>\n",
       "      <td>In the second installment of the Death Note fi...</td>\n",
       "      <td>50710400</td>\n",
       "      <td>141.0</td>\n",
       "      <td>The last name to be written in the DEATH NOTE....</td>\n",
       "    </tr>\n",
       "    <tr>\n",
       "      <th>3</th>\n",
       "      <td>en</td>\n",
       "      <td>Teen Titans Go! To the Movies</td>\n",
       "      <td>42.672</td>\n",
       "      <td>All the major DC superheroes are starring in t...</td>\n",
       "      <td>28646544</td>\n",
       "      <td>85.0</td>\n",
       "      <td>The superhero movie to end all superhero movie...</td>\n",
       "    </tr>\n",
       "    <tr>\n",
       "      <th>4</th>\n",
       "      <td>en</td>\n",
       "      <td>The Crush</td>\n",
       "      <td>20.728</td>\n",
       "      <td>A precocious and obsessive teenager develops a...</td>\n",
       "      <td>13609396</td>\n",
       "      <td>89.0</td>\n",
       "      <td>He thought it was just a crush. He was dead wr...</td>\n",
       "    </tr>\n",
       "    <tr>\n",
       "      <th>10</th>\n",
       "      <td>en</td>\n",
       "      <td>DuckTales: The Movie - Treasure of the Lost Lamp</td>\n",
       "      <td>14.493</td>\n",
       "      <td>With his nephews and niece, everyone's favorit...</td>\n",
       "      <td>18115724</td>\n",
       "      <td>74.0</td>\n",
       "      <td>NaN</td>\n",
       "    </tr>\n",
       "    <tr>\n",
       "      <th>11</th>\n",
       "      <td>en</td>\n",
       "      <td>Escape from New York</td>\n",
       "      <td>17.854</td>\n",
       "      <td>In the future, crime is out of control and New...</td>\n",
       "      <td>50244700</td>\n",
       "      <td>99.0</td>\n",
       "      <td>1997. New York city is now a maximum security ...</td>\n",
       "    </tr>\n",
       "    <tr>\n",
       "      <th>...</th>\n",
       "      <td>...</td>\n",
       "      <td>...</td>\n",
       "      <td>...</td>\n",
       "      <td>...</td>\n",
       "      <td>...</td>\n",
       "      <td>...</td>\n",
       "      <td>...</td>\n",
       "    </tr>\n",
       "    <tr>\n",
       "      <th>6990</th>\n",
       "      <td>en</td>\n",
       "      <td>Forever Young</td>\n",
       "      <td>10.729</td>\n",
       "      <td>A 1939 test pilot asks his best friend to use ...</td>\n",
       "      <td>127956187</td>\n",
       "      <td>102.0</td>\n",
       "      <td>Time waits for no man, but true love waits for...</td>\n",
       "    </tr>\n",
       "    <tr>\n",
       "      <th>6992</th>\n",
       "      <td>en</td>\n",
       "      <td>Premium Rush</td>\n",
       "      <td>18.299</td>\n",
       "      <td>In Manhattan, a bike messenger picks up an env...</td>\n",
       "      <td>31083599</td>\n",
       "      <td>91.0</td>\n",
       "      <td>Ride Like Hell</td>\n",
       "    </tr>\n",
       "    <tr>\n",
       "      <th>6993</th>\n",
       "      <td>en</td>\n",
       "      <td>John Wick: Chapter 3 - Parabellum</td>\n",
       "      <td>115.765</td>\n",
       "      <td>Super-assassin John Wick returns with a $14 mi...</td>\n",
       "      <td>326709727</td>\n",
       "      <td>130.0</td>\n",
       "      <td>The Grace Period Is Over</td>\n",
       "    </tr>\n",
       "    <tr>\n",
       "      <th>6996</th>\n",
       "      <td>en</td>\n",
       "      <td>EverAfter</td>\n",
       "      <td>17.171</td>\n",
       "      <td>A unique 16th century woman, Danielle possesse...</td>\n",
       "      <td>65705772</td>\n",
       "      <td>121.0</td>\n",
       "      <td>Desire. Defy. Escape.</td>\n",
       "    </tr>\n",
       "    <tr>\n",
       "      <th>6998</th>\n",
       "      <td>en</td>\n",
       "      <td>The Hate U Give</td>\n",
       "      <td>99.513</td>\n",
       "      <td>Raised in a poverty-stricken slum, a 16-year-o...</td>\n",
       "      <td>34934009</td>\n",
       "      <td>133.0</td>\n",
       "      <td>Two worlds. One voice. No going back.</td>\n",
       "    </tr>\n",
       "  </tbody>\n",
       "</table>\n",
       "<p>3730 rows × 7 columns</p>\n",
       "</div>"
      ],
      "text/plain": [
       "     original_language                                    original_title  \\\n",
       "1                   ja                               デスノート the Last name   \n",
       "3                   en                     Teen Titans Go! To the Movies   \n",
       "4                   en                                         The Crush   \n",
       "10                  en  DuckTales: The Movie - Treasure of the Lost Lamp   \n",
       "11                  en                              Escape from New York   \n",
       "...                ...                                               ...   \n",
       "6990                en                                     Forever Young   \n",
       "6992                en                                      Premium Rush   \n",
       "6993                en                 John Wick: Chapter 3 - Parabellum   \n",
       "6996                en                                         EverAfter   \n",
       "6998                en                                   The Hate U Give   \n",
       "\n",
       "      popularity                                           overview  \\\n",
       "1         28.346  In the second installment of the Death Note fi...   \n",
       "3         42.672  All the major DC superheroes are starring in t...   \n",
       "4         20.728  A precocious and obsessive teenager develops a...   \n",
       "10        14.493  With his nephews and niece, everyone's favorit...   \n",
       "11        17.854  In the future, crime is out of control and New...   \n",
       "...          ...                                                ...   \n",
       "6990      10.729  A 1939 test pilot asks his best friend to use ...   \n",
       "6992      18.299  In Manhattan, a bike messenger picks up an env...   \n",
       "6993     115.765  Super-assassin John Wick returns with a $14 mi...   \n",
       "6996      17.171  A unique 16th century woman, Danielle possesse...   \n",
       "6998      99.513  Raised in a poverty-stricken slum, a 16-year-o...   \n",
       "\n",
       "        revenue  runtime                                            tagline  \n",
       "1      50710400    141.0  The last name to be written in the DEATH NOTE....  \n",
       "3      28646544     85.0  The superhero movie to end all superhero movie...  \n",
       "4      13609396     89.0  He thought it was just a crush. He was dead wr...  \n",
       "10     18115724     74.0                                                NaN  \n",
       "11     50244700     99.0  1997. New York city is now a maximum security ...  \n",
       "...         ...      ...                                                ...  \n",
       "6990  127956187    102.0  Time waits for no man, but true love waits for...  \n",
       "6992   31083599     91.0                                     Ride Like Hell  \n",
       "6993  326709727    130.0                           The Grace Period Is Over  \n",
       "6996   65705772    121.0                              Desire. Defy. Escape.  \n",
       "6998   34934009    133.0              Two worlds. One voice. No going back.  \n",
       "\n",
       "[3730 rows x 7 columns]"
      ]
     },
     "execution_count": 105,
     "metadata": {},
     "output_type": "execute_result"
    }
   ],
   "source": [
    "X_train"
   ]
  },
  {
   "cell_type": "code",
   "execution_count": 106,
   "metadata": {},
   "outputs": [
    {
     "data": {
      "text/plain": [
       "1       6.9\n",
       "3       7.4\n",
       "4       6.3\n",
       "10      6.8\n",
       "11      7.1\n",
       "       ... \n",
       "6990    6.5\n",
       "6992    6.3\n",
       "6993    7.4\n",
       "6996    7.3\n",
       "6998    8.3\n",
       "Name: vote_average, Length: 3730, dtype: float64"
      ]
     },
     "execution_count": 106,
     "metadata": {},
     "output_type": "execute_result"
    }
   ],
   "source": [
    "y_label = find_revenue_not_zero.vote_average\n",
    "y_label"
   ]
  },
  {
   "cell_type": "code",
   "execution_count": 51,
   "metadata": {},
   "outputs": [],
   "source": [
    "regr = LinearRegression()"
   ]
  },
  {
   "cell_type": "code",
   "execution_count": 52,
   "metadata": {},
   "outputs": [
    {
     "data": {
      "text/plain": [
       "LinearRegression()"
      ]
     },
     "execution_count": 52,
     "metadata": {},
     "output_type": "execute_result"
    }
   ],
   "source": [
    "regr.fit(X_train,y_label)"
   ]
  },
  {
   "cell_type": "code",
   "execution_count": 53,
   "metadata": {},
   "outputs": [],
   "source": [
    "xtest['runtime'].fillna(np.mean(xtest['runtime']), inplace=True)\n"
   ]
  },
  {
   "cell_type": "code",
   "execution_count": 54,
   "metadata": {},
   "outputs": [],
   "source": [
    "y_prediction =  regr.predict(xtest)"
   ]
  },
  {
   "cell_type": "code",
   "execution_count": 55,
   "metadata": {},
   "outputs": [
    {
     "data": {
      "text/plain": [
       "array([6.85416851, 6.48735591, 6.66966041, ..., 6.21160879, 6.5056172 ,\n",
       "       6.86061827])"
      ]
     },
     "execution_count": 55,
     "metadata": {},
     "output_type": "execute_result"
    }
   ],
   "source": [
    "y_prediction"
   ]
  },
  {
   "cell_type": "code",
   "execution_count": 56,
   "metadata": {},
   "outputs": [
    {
     "name": "stdout",
     "output_type": "stream",
     "text": [
      "<class 'numpy.ndarray'>\n"
     ]
    }
   ],
   "source": [
    "print(type(y_prediction))"
   ]
  },
  {
   "cell_type": "code",
   "execution_count": 57,
   "metadata": {},
   "outputs": [],
   "source": [
    "df = pd.DataFrame(y_prediction, columns=['vote_average'])"
   ]
  },
  {
   "cell_type": "code",
   "execution_count": 114,
   "metadata": {},
   "outputs": [],
   "source": [
    "df.to_csv('mynew.csv')"
   ]
  },
  {
   "cell_type": "code",
   "execution_count": 58,
   "metadata": {},
   "outputs": [],
   "source": [
    "xtestnew = pd.read_csv('XTest.csv')"
   ]
  },
  {
   "cell_type": "code",
   "execution_count": 106,
   "metadata": {},
   "outputs": [],
   "source": [
    "xtestnew.drop(columns=['original_language', 'original_title', 'release_date', 'genre','overview', 'runtime','tagline', 'revenue', 'popularity'], inplace=True)"
   ]
  },
  {
   "cell_type": "code",
   "execution_count": 108,
   "metadata": {},
   "outputs": [
    {
     "data": {
      "text/plain": [
       "array([[6252],\n",
       "       [4684],\n",
       "       [1731],\n",
       "       ...,\n",
       "       [3063],\n",
       "       [6487],\n",
       "       [4705]])"
      ]
     },
     "execution_count": 108,
     "metadata": {},
     "output_type": "execute_result"
    }
   ],
   "source": [
    "xtestnew.to_numpy()"
   ]
  },
  {
   "cell_type": "code",
   "execution_count": 111,
   "metadata": {},
   "outputs": [],
   "source": [
    "newdf = pd.DataFrame(xtestnew, columns=['id'])"
   ]
  },
  {
   "cell_type": "code",
   "execution_count": 112,
   "metadata": {},
   "outputs": [
    {
     "data": {
      "text/html": [
       "<div>\n",
       "<style scoped>\n",
       "    .dataframe tbody tr th:only-of-type {\n",
       "        vertical-align: middle;\n",
       "    }\n",
       "\n",
       "    .dataframe tbody tr th {\n",
       "        vertical-align: top;\n",
       "    }\n",
       "\n",
       "    .dataframe thead th {\n",
       "        text-align: right;\n",
       "    }\n",
       "</style>\n",
       "<table border=\"1\" class=\"dataframe\">\n",
       "  <thead>\n",
       "    <tr style=\"text-align: right;\">\n",
       "      <th></th>\n",
       "      <th>id</th>\n",
       "    </tr>\n",
       "  </thead>\n",
       "  <tbody>\n",
       "    <tr>\n",
       "      <th>0</th>\n",
       "      <td>6252</td>\n",
       "    </tr>\n",
       "    <tr>\n",
       "      <th>1</th>\n",
       "      <td>4684</td>\n",
       "    </tr>\n",
       "    <tr>\n",
       "      <th>2</th>\n",
       "      <td>1731</td>\n",
       "    </tr>\n",
       "    <tr>\n",
       "      <th>3</th>\n",
       "      <td>4742</td>\n",
       "    </tr>\n",
       "    <tr>\n",
       "      <th>4</th>\n",
       "      <td>4521</td>\n",
       "    </tr>\n",
       "    <tr>\n",
       "      <th>...</th>\n",
       "      <td>...</td>\n",
       "    </tr>\n",
       "    <tr>\n",
       "      <th>2995</th>\n",
       "      <td>8014</td>\n",
       "    </tr>\n",
       "    <tr>\n",
       "      <th>2996</th>\n",
       "      <td>1074</td>\n",
       "    </tr>\n",
       "    <tr>\n",
       "      <th>2997</th>\n",
       "      <td>3063</td>\n",
       "    </tr>\n",
       "    <tr>\n",
       "      <th>2998</th>\n",
       "      <td>6487</td>\n",
       "    </tr>\n",
       "    <tr>\n",
       "      <th>2999</th>\n",
       "      <td>4705</td>\n",
       "    </tr>\n",
       "  </tbody>\n",
       "</table>\n",
       "<p>3000 rows × 1 columns</p>\n",
       "</div>"
      ],
      "text/plain": [
       "        id\n",
       "0     6252\n",
       "1     4684\n",
       "2     1731\n",
       "3     4742\n",
       "4     4521\n",
       "...    ...\n",
       "2995  8014\n",
       "2996  1074\n",
       "2997  3063\n",
       "2998  6487\n",
       "2999  4705\n",
       "\n",
       "[3000 rows x 1 columns]"
      ]
     },
     "execution_count": 112,
     "metadata": {},
     "output_type": "execute_result"
    }
   ],
   "source": [
    "newdf.to_csv()"
   ]
  },
  {
   "cell_type": "code",
   "execution_count": 59,
   "metadata": {},
   "outputs": [
    {
     "ename": "ValueError",
     "evalue": "Unknown label type: (array([3.2, 3.5, 3.7, 3.9, 4. , 4.1, 4.2, 4.3, 4.4, 4.5, 4.6, 4.7, 4.8,\n       4.9, 5. , 5.1, 5.2, 5.3, 5.4, 5.5, 5.6, 5.7, 5.8, 5.9, 6. , 6.1,\n       6.2, 6.3, 6.4, 6.5, 6.6, 6.7, 6.8, 6.9, 7. , 7.1, 7.2, 7.3, 7.4,\n       7.5, 7.6, 7.7, 7.8, 7.9, 8. , 8.1, 8.2, 8.3, 8.4, 8.5, 8.6, 8.7,\n       9.2]),)",
     "output_type": "error",
     "traceback": [
      "\u001b[0;31m---------------------------------------------------------------------------\u001b[0m",
      "\u001b[0;31mValueError\u001b[0m                                Traceback (most recent call last)",
      "\u001b[1;32m/Users/kartiksharma/Desktop/School/Machine Learning/Competition/code.ipynb Cell 32\u001b[0m in \u001b[0;36m<cell line: 2>\u001b[0;34m()\u001b[0m\n\u001b[1;32m      <a href='vscode-notebook-cell:/Users/kartiksharma/Desktop/School/Machine%20Learning/Competition/code.ipynb#X42sZmlsZQ%3D%3D?line=0'>1</a>\u001b[0m lr \u001b[39m=\u001b[39m SGDClassifier(loss\u001b[39m=\u001b[39m\u001b[39m'\u001b[39m\u001b[39mlog\u001b[39m\u001b[39m'\u001b[39m, penalty\u001b[39m=\u001b[39m\u001b[39m'\u001b[39m\u001b[39ml2\u001b[39m\u001b[39m'\u001b[39m, alpha\u001b[39m=\u001b[39m\u001b[39m0.001\u001b[39m, max_iter\u001b[39m=\u001b[39m\u001b[39m2000\u001b[39m, shuffle\u001b[39m=\u001b[39m\u001b[39mTrue\u001b[39;00m, verbose\u001b[39m=\u001b[39m\u001b[39m0\u001b[39m, random_state\u001b[39m=\u001b[39m\u001b[39m42\u001b[39m)\n\u001b[0;32m----> <a href='vscode-notebook-cell:/Users/kartiksharma/Desktop/School/Machine%20Learning/Competition/code.ipynb#X42sZmlsZQ%3D%3D?line=1'>2</a>\u001b[0m lr\u001b[39m.\u001b[39;49mfit(X_train, y_label)\n",
      "File \u001b[0;32m~/opt/anaconda3/lib/python3.9/site-packages/sklearn/linear_model/_stochastic_gradient.py:883\u001b[0m, in \u001b[0;36mBaseSGDClassifier.fit\u001b[0;34m(self, X, y, coef_init, intercept_init, sample_weight)\u001b[0m\n\u001b[1;32m    855\u001b[0m \u001b[39mdef\u001b[39;00m \u001b[39mfit\u001b[39m(\u001b[39mself\u001b[39m, X, y, coef_init\u001b[39m=\u001b[39m\u001b[39mNone\u001b[39;00m, intercept_init\u001b[39m=\u001b[39m\u001b[39mNone\u001b[39;00m, sample_weight\u001b[39m=\u001b[39m\u001b[39mNone\u001b[39;00m):\n\u001b[1;32m    856\u001b[0m     \u001b[39m\"\"\"Fit linear model with Stochastic Gradient Descent.\u001b[39;00m\n\u001b[1;32m    857\u001b[0m \n\u001b[1;32m    858\u001b[0m \u001b[39m    Parameters\u001b[39;00m\n\u001b[0;32m   (...)\u001b[0m\n\u001b[1;32m    881\u001b[0m \u001b[39m        Returns an instance of self.\u001b[39;00m\n\u001b[1;32m    882\u001b[0m \u001b[39m    \"\"\"\u001b[39;00m\n\u001b[0;32m--> 883\u001b[0m     \u001b[39mreturn\u001b[39;00m \u001b[39mself\u001b[39;49m\u001b[39m.\u001b[39;49m_fit(\n\u001b[1;32m    884\u001b[0m         X,\n\u001b[1;32m    885\u001b[0m         y,\n\u001b[1;32m    886\u001b[0m         alpha\u001b[39m=\u001b[39;49m\u001b[39mself\u001b[39;49m\u001b[39m.\u001b[39;49malpha,\n\u001b[1;32m    887\u001b[0m         C\u001b[39m=\u001b[39;49m\u001b[39m1.0\u001b[39;49m,\n\u001b[1;32m    888\u001b[0m         loss\u001b[39m=\u001b[39;49m\u001b[39mself\u001b[39;49m\u001b[39m.\u001b[39;49mloss,\n\u001b[1;32m    889\u001b[0m         learning_rate\u001b[39m=\u001b[39;49m\u001b[39mself\u001b[39;49m\u001b[39m.\u001b[39;49mlearning_rate,\n\u001b[1;32m    890\u001b[0m         coef_init\u001b[39m=\u001b[39;49mcoef_init,\n\u001b[1;32m    891\u001b[0m         intercept_init\u001b[39m=\u001b[39;49mintercept_init,\n\u001b[1;32m    892\u001b[0m         sample_weight\u001b[39m=\u001b[39;49msample_weight,\n\u001b[1;32m    893\u001b[0m     )\n",
      "File \u001b[0;32m~/opt/anaconda3/lib/python3.9/site-packages/sklearn/linear_model/_stochastic_gradient.py:677\u001b[0m, in \u001b[0;36mBaseSGDClassifier._fit\u001b[0;34m(self, X, y, alpha, C, loss, learning_rate, coef_init, intercept_init, sample_weight)\u001b[0m\n\u001b[1;32m    674\u001b[0m \u001b[39m# Clear iteration count for multiple call to fit.\u001b[39;00m\n\u001b[1;32m    675\u001b[0m \u001b[39mself\u001b[39m\u001b[39m.\u001b[39mt_ \u001b[39m=\u001b[39m \u001b[39m1.0\u001b[39m\n\u001b[0;32m--> 677\u001b[0m \u001b[39mself\u001b[39;49m\u001b[39m.\u001b[39;49m_partial_fit(\n\u001b[1;32m    678\u001b[0m     X,\n\u001b[1;32m    679\u001b[0m     y,\n\u001b[1;32m    680\u001b[0m     alpha,\n\u001b[1;32m    681\u001b[0m     C,\n\u001b[1;32m    682\u001b[0m     loss,\n\u001b[1;32m    683\u001b[0m     learning_rate,\n\u001b[1;32m    684\u001b[0m     \u001b[39mself\u001b[39;49m\u001b[39m.\u001b[39;49mmax_iter,\n\u001b[1;32m    685\u001b[0m     classes,\n\u001b[1;32m    686\u001b[0m     sample_weight,\n\u001b[1;32m    687\u001b[0m     coef_init,\n\u001b[1;32m    688\u001b[0m     intercept_init,\n\u001b[1;32m    689\u001b[0m )\n\u001b[1;32m    691\u001b[0m \u001b[39mif\u001b[39;00m (\n\u001b[1;32m    692\u001b[0m     \u001b[39mself\u001b[39m\u001b[39m.\u001b[39mtol \u001b[39mis\u001b[39;00m \u001b[39mnot\u001b[39;00m \u001b[39mNone\u001b[39;00m\n\u001b[1;32m    693\u001b[0m     \u001b[39mand\u001b[39;00m \u001b[39mself\u001b[39m\u001b[39m.\u001b[39mtol \u001b[39m>\u001b[39m \u001b[39m-\u001b[39mnp\u001b[39m.\u001b[39minf\n\u001b[1;32m    694\u001b[0m     \u001b[39mand\u001b[39;00m \u001b[39mself\u001b[39m\u001b[39m.\u001b[39mn_iter_ \u001b[39m==\u001b[39m \u001b[39mself\u001b[39m\u001b[39m.\u001b[39mmax_iter\n\u001b[1;32m    695\u001b[0m ):\n\u001b[1;32m    696\u001b[0m     warnings\u001b[39m.\u001b[39mwarn(\n\u001b[1;32m    697\u001b[0m         \u001b[39m\"\u001b[39m\u001b[39mMaximum number of iteration reached before \u001b[39m\u001b[39m\"\u001b[39m\n\u001b[1;32m    698\u001b[0m         \u001b[39m\"\u001b[39m\u001b[39mconvergence. Consider increasing max_iter to \u001b[39m\u001b[39m\"\u001b[39m\n\u001b[1;32m    699\u001b[0m         \u001b[39m\"\u001b[39m\u001b[39mimprove the fit.\u001b[39m\u001b[39m\"\u001b[39m,\n\u001b[1;32m    700\u001b[0m         ConvergenceWarning,\n\u001b[1;32m    701\u001b[0m     )\n",
      "File \u001b[0;32m~/opt/anaconda3/lib/python3.9/site-packages/sklearn/linear_model/_stochastic_gradient.py:584\u001b[0m, in \u001b[0;36mBaseSGDClassifier._partial_fit\u001b[0;34m(self, X, y, alpha, C, loss, learning_rate, max_iter, classes, sample_weight, coef_init, intercept_init)\u001b[0m\n\u001b[1;32m    572\u001b[0m X, y \u001b[39m=\u001b[39m \u001b[39mself\u001b[39m\u001b[39m.\u001b[39m_validate_data(\n\u001b[1;32m    573\u001b[0m     X,\n\u001b[1;32m    574\u001b[0m     y,\n\u001b[0;32m   (...)\u001b[0m\n\u001b[1;32m    579\u001b[0m     reset\u001b[39m=\u001b[39mfirst_call,\n\u001b[1;32m    580\u001b[0m )\n\u001b[1;32m    582\u001b[0m n_samples, n_features \u001b[39m=\u001b[39m X\u001b[39m.\u001b[39mshape\n\u001b[0;32m--> 584\u001b[0m _check_partial_fit_first_call(\u001b[39mself\u001b[39;49m, classes)\n\u001b[1;32m    586\u001b[0m n_classes \u001b[39m=\u001b[39m \u001b[39mself\u001b[39m\u001b[39m.\u001b[39mclasses_\u001b[39m.\u001b[39mshape[\u001b[39m0\u001b[39m]\n\u001b[1;32m    588\u001b[0m \u001b[39m# Allocate datastructures from input arguments\u001b[39;00m\n",
      "File \u001b[0;32m~/opt/anaconda3/lib/python3.9/site-packages/sklearn/utils/multiclass.py:360\u001b[0m, in \u001b[0;36m_check_partial_fit_first_call\u001b[0;34m(clf, classes)\u001b[0m\n\u001b[1;32m    353\u001b[0m             \u001b[39mraise\u001b[39;00m \u001b[39mValueError\u001b[39;00m(\n\u001b[1;32m    354\u001b[0m                 \u001b[39m\"\u001b[39m\u001b[39m`classes=\u001b[39m\u001b[39m%r\u001b[39;00m\u001b[39m` is not the same as on last call \u001b[39m\u001b[39m\"\u001b[39m\n\u001b[1;32m    355\u001b[0m                 \u001b[39m\"\u001b[39m\u001b[39mto partial_fit, was: \u001b[39m\u001b[39m%r\u001b[39;00m\u001b[39m\"\u001b[39m \u001b[39m%\u001b[39m (classes, clf\u001b[39m.\u001b[39mclasses_)\n\u001b[1;32m    356\u001b[0m             )\n\u001b[1;32m    358\u001b[0m     \u001b[39melse\u001b[39;00m:\n\u001b[1;32m    359\u001b[0m         \u001b[39m# This is the first call to partial_fit\u001b[39;00m\n\u001b[0;32m--> 360\u001b[0m         clf\u001b[39m.\u001b[39mclasses_ \u001b[39m=\u001b[39m unique_labels(classes)\n\u001b[1;32m    361\u001b[0m         \u001b[39mreturn\u001b[39;00m \u001b[39mTrue\u001b[39;00m\n\u001b[1;32m    363\u001b[0m \u001b[39m# classes is None and clf.classes_ has already previously been set:\u001b[39;00m\n\u001b[1;32m    364\u001b[0m \u001b[39m# nothing to do\u001b[39;00m\n",
      "File \u001b[0;32m~/opt/anaconda3/lib/python3.9/site-packages/sklearn/utils/multiclass.py:101\u001b[0m, in \u001b[0;36munique_labels\u001b[0;34m(*ys)\u001b[0m\n\u001b[1;32m     99\u001b[0m _unique_labels \u001b[39m=\u001b[39m _FN_UNIQUE_LABELS\u001b[39m.\u001b[39mget(label_type, \u001b[39mNone\u001b[39;00m)\n\u001b[1;32m    100\u001b[0m \u001b[39mif\u001b[39;00m \u001b[39mnot\u001b[39;00m _unique_labels:\n\u001b[0;32m--> 101\u001b[0m     \u001b[39mraise\u001b[39;00m \u001b[39mValueError\u001b[39;00m(\u001b[39m\"\u001b[39m\u001b[39mUnknown label type: \u001b[39m\u001b[39m%s\u001b[39;00m\u001b[39m\"\u001b[39m \u001b[39m%\u001b[39m \u001b[39mrepr\u001b[39m(ys))\n\u001b[1;32m    103\u001b[0m ys_labels \u001b[39m=\u001b[39m \u001b[39mset\u001b[39m(chain\u001b[39m.\u001b[39mfrom_iterable(_unique_labels(y) \u001b[39mfor\u001b[39;00m y \u001b[39min\u001b[39;00m ys))\n\u001b[1;32m    105\u001b[0m \u001b[39m# Check that we don't mix string type with number type\u001b[39;00m\n",
      "\u001b[0;31mValueError\u001b[0m: Unknown label type: (array([3.2, 3.5, 3.7, 3.9, 4. , 4.1, 4.2, 4.3, 4.4, 4.5, 4.6, 4.7, 4.8,\n       4.9, 5. , 5.1, 5.2, 5.3, 5.4, 5.5, 5.6, 5.7, 5.8, 5.9, 6. , 6.1,\n       6.2, 6.3, 6.4, 6.5, 6.6, 6.7, 6.8, 6.9, 7. , 7.1, 7.2, 7.3, 7.4,\n       7.5, 7.6, 7.7, 7.8, 7.9, 8. , 8.1, 8.2, 8.3, 8.4, 8.5, 8.6, 8.7,\n       9.2]),)"
     ]
    }
   ],
   "source": [
    "lr = SGDClassifier(loss='log', penalty='l2', alpha=0.001, max_iter=2000, shuffle=True, verbose=0, random_state=42)\n",
    "lr.fit(X_train, y_label)\n",
    "\n"
   ]
  },
  {
   "cell_type": "code",
   "execution_count": 60,
   "metadata": {},
   "outputs": [
    {
     "data": {
      "text/plain": [
       "SVR()"
      ]
     },
     "execution_count": 60,
     "metadata": {},
     "output_type": "execute_result"
    }
   ],
   "source": [
    "regr = svm.SVR()\n",
    "regr.fit(X_train, y_label)"
   ]
  },
  {
   "cell_type": "code",
   "execution_count": 61,
   "metadata": {},
   "outputs": [],
   "source": [
    "predict = regr.predict(xtest)"
   ]
  },
  {
   "cell_type": "code",
   "execution_count": 62,
   "metadata": {},
   "outputs": [
    {
     "name": "stdout",
     "output_type": "stream",
     "text": [
      "[6.50534818 7.43226196 6.56552989 ... 6.54999529 6.49961198 6.53712048]\n"
     ]
    }
   ],
   "source": [
    "print(predict)"
   ]
  },
  {
   "cell_type": "code",
   "execution_count": 63,
   "metadata": {},
   "outputs": [],
   "source": [
    "df3 = pd.DataFrame(predict, columns=['vote_average'])\n",
    "df3.to_csv('return.csv')"
   ]
  },
  {
   "cell_type": "code",
   "execution_count": 64,
   "metadata": {},
   "outputs": [],
   "source": [
    "clf = Ridge(alpha=1.0)"
   ]
  },
  {
   "cell_type": "code",
   "execution_count": 65,
   "metadata": {},
   "outputs": [
    {
     "data": {
      "text/plain": [
       "Ridge()"
      ]
     },
     "execution_count": 65,
     "metadata": {},
     "output_type": "execute_result"
    }
   ],
   "source": [
    "clf.fit(X_train, y_label)"
   ]
  },
  {
   "cell_type": "code",
   "execution_count": 66,
   "metadata": {},
   "outputs": [
    {
     "data": {
      "text/plain": [
       "array([6.85416827, 6.48735635, 6.66966033, ..., 6.21160903, 6.50561722,\n",
       "       6.86061803])"
      ]
     },
     "execution_count": 66,
     "metadata": {},
     "output_type": "execute_result"
    }
   ],
   "source": [
    "clf.predict(xtest)"
   ]
  },
  {
   "cell_type": "code",
   "execution_count": 67,
   "metadata": {},
   "outputs": [
    {
     "ename": "ValueError",
     "evalue": "Unknown label type: 'continuous'",
     "output_type": "error",
     "traceback": [
      "\u001b[0;31m---------------------------------------------------------------------------\u001b[0m",
      "\u001b[0;31mValueError\u001b[0m                                Traceback (most recent call last)",
      "\u001b[1;32m/Users/kartiksharma/Desktop/School/Machine Learning/Competition/code.ipynb Cell 40\u001b[0m in \u001b[0;36m<cell line: 2>\u001b[0;34m()\u001b[0m\n\u001b[1;32m      <a href='vscode-notebook-cell:/Users/kartiksharma/Desktop/School/Machine%20Learning/Competition/code.ipynb#X53sZmlsZQ%3D%3D?line=0'>1</a>\u001b[0m classifier \u001b[39m=\u001b[39m LogisticRegression()\n\u001b[0;32m----> <a href='vscode-notebook-cell:/Users/kartiksharma/Desktop/School/Machine%20Learning/Competition/code.ipynb#X53sZmlsZQ%3D%3D?line=1'>2</a>\u001b[0m classifier\u001b[39m.\u001b[39;49mfit(X_train, y_label)\n",
      "File \u001b[0;32m~/opt/anaconda3/lib/python3.9/site-packages/sklearn/linear_model/_logistic.py:1516\u001b[0m, in \u001b[0;36mLogisticRegression.fit\u001b[0;34m(self, X, y, sample_weight)\u001b[0m\n\u001b[1;32m   1506\u001b[0m     _dtype \u001b[39m=\u001b[39m [np\u001b[39m.\u001b[39mfloat64, np\u001b[39m.\u001b[39mfloat32]\n\u001b[1;32m   1508\u001b[0m X, y \u001b[39m=\u001b[39m \u001b[39mself\u001b[39m\u001b[39m.\u001b[39m_validate_data(\n\u001b[1;32m   1509\u001b[0m     X,\n\u001b[1;32m   1510\u001b[0m     y,\n\u001b[0;32m   (...)\u001b[0m\n\u001b[1;32m   1514\u001b[0m     accept_large_sparse\u001b[39m=\u001b[39msolver \u001b[39mnot\u001b[39;00m \u001b[39min\u001b[39;00m [\u001b[39m\"\u001b[39m\u001b[39mliblinear\u001b[39m\u001b[39m\"\u001b[39m, \u001b[39m\"\u001b[39m\u001b[39msag\u001b[39m\u001b[39m\"\u001b[39m, \u001b[39m\"\u001b[39m\u001b[39msaga\u001b[39m\u001b[39m\"\u001b[39m],\n\u001b[1;32m   1515\u001b[0m )\n\u001b[0;32m-> 1516\u001b[0m check_classification_targets(y)\n\u001b[1;32m   1517\u001b[0m \u001b[39mself\u001b[39m\u001b[39m.\u001b[39mclasses_ \u001b[39m=\u001b[39m np\u001b[39m.\u001b[39munique(y)\n\u001b[1;32m   1519\u001b[0m multi_class \u001b[39m=\u001b[39m _check_multi_class(\u001b[39mself\u001b[39m\u001b[39m.\u001b[39mmulti_class, solver, \u001b[39mlen\u001b[39m(\u001b[39mself\u001b[39m\u001b[39m.\u001b[39mclasses_))\n",
      "File \u001b[0;32m~/opt/anaconda3/lib/python3.9/site-packages/sklearn/utils/multiclass.py:197\u001b[0m, in \u001b[0;36mcheck_classification_targets\u001b[0;34m(y)\u001b[0m\n\u001b[1;32m    189\u001b[0m y_type \u001b[39m=\u001b[39m type_of_target(y)\n\u001b[1;32m    190\u001b[0m \u001b[39mif\u001b[39;00m y_type \u001b[39mnot\u001b[39;00m \u001b[39min\u001b[39;00m [\n\u001b[1;32m    191\u001b[0m     \u001b[39m\"\u001b[39m\u001b[39mbinary\u001b[39m\u001b[39m\"\u001b[39m,\n\u001b[1;32m    192\u001b[0m     \u001b[39m\"\u001b[39m\u001b[39mmulticlass\u001b[39m\u001b[39m\"\u001b[39m,\n\u001b[0;32m   (...)\u001b[0m\n\u001b[1;32m    195\u001b[0m     \u001b[39m\"\u001b[39m\u001b[39mmultilabel-sequences\u001b[39m\u001b[39m\"\u001b[39m,\n\u001b[1;32m    196\u001b[0m ]:\n\u001b[0;32m--> 197\u001b[0m     \u001b[39mraise\u001b[39;00m \u001b[39mValueError\u001b[39;00m(\u001b[39m\"\u001b[39m\u001b[39mUnknown label type: \u001b[39m\u001b[39m%r\u001b[39;00m\u001b[39m\"\u001b[39m \u001b[39m%\u001b[39m y_type)\n",
      "\u001b[0;31mValueError\u001b[0m: Unknown label type: 'continuous'"
     ]
    }
   ],
   "source": [
    "classifier = LogisticRegression()\n",
    "classifier.fit(X_train, y_label)"
   ]
  },
  {
   "cell_type": "code",
   "execution_count": 122,
   "metadata": {},
   "outputs": [
    {
     "data": {
      "text/html": [
       "<div>\n",
       "<style scoped>\n",
       "    .dataframe tbody tr th:only-of-type {\n",
       "        vertical-align: middle;\n",
       "    }\n",
       "\n",
       "    .dataframe tbody tr th {\n",
       "        vertical-align: top;\n",
       "    }\n",
       "\n",
       "    .dataframe thead th {\n",
       "        text-align: right;\n",
       "    }\n",
       "</style>\n",
       "<table border=\"1\" class=\"dataframe\">\n",
       "  <thead>\n",
       "    <tr style=\"text-align: right;\">\n",
       "      <th></th>\n",
       "      <th>original_language</th>\n",
       "      <th>original_title</th>\n",
       "      <th>popularity</th>\n",
       "      <th>overview</th>\n",
       "      <th>revenue</th>\n",
       "      <th>runtime</th>\n",
       "      <th>tagline</th>\n",
       "    </tr>\n",
       "  </thead>\n",
       "  <tbody>\n",
       "    <tr>\n",
       "      <th>1</th>\n",
       "      <td>ja</td>\n",
       "      <td>デスノート the Last name</td>\n",
       "      <td>28.346</td>\n",
       "      <td>In the second installment of the Death Note fi...</td>\n",
       "      <td>50710400</td>\n",
       "      <td>141.0</td>\n",
       "      <td>The last name to be written in the DEATH NOTE....</td>\n",
       "    </tr>\n",
       "    <tr>\n",
       "      <th>3</th>\n",
       "      <td>en</td>\n",
       "      <td>Teen Titans Go! To the Movies</td>\n",
       "      <td>42.672</td>\n",
       "      <td>All the major DC superheroes are starring in t...</td>\n",
       "      <td>28646544</td>\n",
       "      <td>85.0</td>\n",
       "      <td>The superhero movie to end all superhero movie...</td>\n",
       "    </tr>\n",
       "    <tr>\n",
       "      <th>4</th>\n",
       "      <td>en</td>\n",
       "      <td>The Crush</td>\n",
       "      <td>20.728</td>\n",
       "      <td>A precocious and obsessive teenager develops a...</td>\n",
       "      <td>13609396</td>\n",
       "      <td>89.0</td>\n",
       "      <td>He thought it was just a crush. He was dead wr...</td>\n",
       "    </tr>\n",
       "    <tr>\n",
       "      <th>10</th>\n",
       "      <td>en</td>\n",
       "      <td>DuckTales: The Movie - Treasure of the Lost Lamp</td>\n",
       "      <td>14.493</td>\n",
       "      <td>With his nephews and niece, everyone's favorit...</td>\n",
       "      <td>18115724</td>\n",
       "      <td>74.0</td>\n",
       "      <td>NaN</td>\n",
       "    </tr>\n",
       "    <tr>\n",
       "      <th>11</th>\n",
       "      <td>en</td>\n",
       "      <td>Escape from New York</td>\n",
       "      <td>17.854</td>\n",
       "      <td>In the future, crime is out of control and New...</td>\n",
       "      <td>50244700</td>\n",
       "      <td>99.0</td>\n",
       "      <td>1997. New York city is now a maximum security ...</td>\n",
       "    </tr>\n",
       "    <tr>\n",
       "      <th>...</th>\n",
       "      <td>...</td>\n",
       "      <td>...</td>\n",
       "      <td>...</td>\n",
       "      <td>...</td>\n",
       "      <td>...</td>\n",
       "      <td>...</td>\n",
       "      <td>...</td>\n",
       "    </tr>\n",
       "    <tr>\n",
       "      <th>6990</th>\n",
       "      <td>en</td>\n",
       "      <td>Forever Young</td>\n",
       "      <td>10.729</td>\n",
       "      <td>A 1939 test pilot asks his best friend to use ...</td>\n",
       "      <td>127956187</td>\n",
       "      <td>102.0</td>\n",
       "      <td>Time waits for no man, but true love waits for...</td>\n",
       "    </tr>\n",
       "    <tr>\n",
       "      <th>6992</th>\n",
       "      <td>en</td>\n",
       "      <td>Premium Rush</td>\n",
       "      <td>18.299</td>\n",
       "      <td>In Manhattan, a bike messenger picks up an env...</td>\n",
       "      <td>31083599</td>\n",
       "      <td>91.0</td>\n",
       "      <td>Ride Like Hell</td>\n",
       "    </tr>\n",
       "    <tr>\n",
       "      <th>6993</th>\n",
       "      <td>en</td>\n",
       "      <td>John Wick: Chapter 3 - Parabellum</td>\n",
       "      <td>115.765</td>\n",
       "      <td>Super-assassin John Wick returns with a $14 mi...</td>\n",
       "      <td>326709727</td>\n",
       "      <td>130.0</td>\n",
       "      <td>The Grace Period Is Over</td>\n",
       "    </tr>\n",
       "    <tr>\n",
       "      <th>6996</th>\n",
       "      <td>en</td>\n",
       "      <td>EverAfter</td>\n",
       "      <td>17.171</td>\n",
       "      <td>A unique 16th century woman, Danielle possesse...</td>\n",
       "      <td>65705772</td>\n",
       "      <td>121.0</td>\n",
       "      <td>Desire. Defy. Escape.</td>\n",
       "    </tr>\n",
       "    <tr>\n",
       "      <th>6998</th>\n",
       "      <td>en</td>\n",
       "      <td>The Hate U Give</td>\n",
       "      <td>99.513</td>\n",
       "      <td>Raised in a poverty-stricken slum, a 16-year-o...</td>\n",
       "      <td>34934009</td>\n",
       "      <td>133.0</td>\n",
       "      <td>Two worlds. One voice. No going back.</td>\n",
       "    </tr>\n",
       "  </tbody>\n",
       "</table>\n",
       "<p>3730 rows × 7 columns</p>\n",
       "</div>"
      ],
      "text/plain": [
       "     original_language                                    original_title  \\\n",
       "1                   ja                               デスノート the Last name   \n",
       "3                   en                     Teen Titans Go! To the Movies   \n",
       "4                   en                                         The Crush   \n",
       "10                  en  DuckTales: The Movie - Treasure of the Lost Lamp   \n",
       "11                  en                              Escape from New York   \n",
       "...                ...                                               ...   \n",
       "6990                en                                     Forever Young   \n",
       "6992                en                                      Premium Rush   \n",
       "6993                en                 John Wick: Chapter 3 - Parabellum   \n",
       "6996                en                                         EverAfter   \n",
       "6998                en                                   The Hate U Give   \n",
       "\n",
       "      popularity                                           overview  \\\n",
       "1         28.346  In the second installment of the Death Note fi...   \n",
       "3         42.672  All the major DC superheroes are starring in t...   \n",
       "4         20.728  A precocious and obsessive teenager develops a...   \n",
       "10        14.493  With his nephews and niece, everyone's favorit...   \n",
       "11        17.854  In the future, crime is out of control and New...   \n",
       "...          ...                                                ...   \n",
       "6990      10.729  A 1939 test pilot asks his best friend to use ...   \n",
       "6992      18.299  In Manhattan, a bike messenger picks up an env...   \n",
       "6993     115.765  Super-assassin John Wick returns with a $14 mi...   \n",
       "6996      17.171  A unique 16th century woman, Danielle possesse...   \n",
       "6998      99.513  Raised in a poverty-stricken slum, a 16-year-o...   \n",
       "\n",
       "        revenue  runtime                                            tagline  \n",
       "1      50710400    141.0  The last name to be written in the DEATH NOTE....  \n",
       "3      28646544     85.0  The superhero movie to end all superhero movie...  \n",
       "4      13609396     89.0  He thought it was just a crush. He was dead wr...  \n",
       "10     18115724     74.0                                                NaN  \n",
       "11     50244700     99.0  1997. New York city is now a maximum security ...  \n",
       "...         ...      ...                                                ...  \n",
       "6990  127956187    102.0  Time waits for no man, but true love waits for...  \n",
       "6992   31083599     91.0                                     Ride Like Hell  \n",
       "6993  326709727    130.0                           The Grace Period Is Over  \n",
       "6996   65705772    121.0                              Desire. Defy. Escape.  \n",
       "6998   34934009    133.0              Two worlds. One voice. No going back.  \n",
       "\n",
       "[3730 rows x 7 columns]"
      ]
     },
     "execution_count": 122,
     "metadata": {},
     "output_type": "execute_result"
    }
   ],
   "source": [
    "X_train"
   ]
  },
  {
   "cell_type": "code",
   "execution_count": 147,
   "metadata": {},
   "outputs": [
    {
     "data": {
      "text/plain": [
       "1       6.9\n",
       "3       7.4\n",
       "4       6.3\n",
       "10      6.8\n",
       "11      7.1\n",
       "       ... \n",
       "6990    6.5\n",
       "6992    6.3\n",
       "6993    7.4\n",
       "6996    7.3\n",
       "6998    8.3\n",
       "Name: vote_average, Length: 3730, dtype: float64"
      ]
     },
     "execution_count": 147,
     "metadata": {},
     "output_type": "execute_result"
    }
   ],
   "source": []
  },
  {
   "cell_type": "code",
   "execution_count": 108,
   "metadata": {},
   "outputs": [],
   "source": [
    "new_y_label = pd.DataFrame(y_label, columns = ['vote_average'])"
   ]
  },
  {
   "cell_type": "code",
   "execution_count": 109,
   "metadata": {},
   "outputs": [
    {
     "data": {
      "text/html": [
       "<div>\n",
       "<style scoped>\n",
       "    .dataframe tbody tr th:only-of-type {\n",
       "        vertical-align: middle;\n",
       "    }\n",
       "\n",
       "    .dataframe tbody tr th {\n",
       "        vertical-align: top;\n",
       "    }\n",
       "\n",
       "    .dataframe thead th {\n",
       "        text-align: right;\n",
       "    }\n",
       "</style>\n",
       "<table border=\"1\" class=\"dataframe\">\n",
       "  <thead>\n",
       "    <tr style=\"text-align: right;\">\n",
       "      <th></th>\n",
       "      <th>vote_average</th>\n",
       "    </tr>\n",
       "  </thead>\n",
       "  <tbody>\n",
       "    <tr>\n",
       "      <th>1</th>\n",
       "      <td>6.9</td>\n",
       "    </tr>\n",
       "    <tr>\n",
       "      <th>3</th>\n",
       "      <td>7.4</td>\n",
       "    </tr>\n",
       "    <tr>\n",
       "      <th>4</th>\n",
       "      <td>6.3</td>\n",
       "    </tr>\n",
       "    <tr>\n",
       "      <th>10</th>\n",
       "      <td>6.8</td>\n",
       "    </tr>\n",
       "    <tr>\n",
       "      <th>11</th>\n",
       "      <td>7.1</td>\n",
       "    </tr>\n",
       "    <tr>\n",
       "      <th>...</th>\n",
       "      <td>...</td>\n",
       "    </tr>\n",
       "    <tr>\n",
       "      <th>6990</th>\n",
       "      <td>6.5</td>\n",
       "    </tr>\n",
       "    <tr>\n",
       "      <th>6992</th>\n",
       "      <td>6.3</td>\n",
       "    </tr>\n",
       "    <tr>\n",
       "      <th>6993</th>\n",
       "      <td>7.4</td>\n",
       "    </tr>\n",
       "    <tr>\n",
       "      <th>6996</th>\n",
       "      <td>7.3</td>\n",
       "    </tr>\n",
       "    <tr>\n",
       "      <th>6998</th>\n",
       "      <td>8.3</td>\n",
       "    </tr>\n",
       "  </tbody>\n",
       "</table>\n",
       "<p>3730 rows × 1 columns</p>\n",
       "</div>"
      ],
      "text/plain": [
       "      vote_average\n",
       "1              6.9\n",
       "3              7.4\n",
       "4              6.3\n",
       "10             6.8\n",
       "11             7.1\n",
       "...            ...\n",
       "6990           6.5\n",
       "6992           6.3\n",
       "6993           7.4\n",
       "6996           7.3\n",
       "6998           8.3\n",
       "\n",
       "[3730 rows x 1 columns]"
      ]
     },
     "execution_count": 109,
     "metadata": {},
     "output_type": "execute_result"
    }
   ],
   "source": [
    "new_y_label"
   ]
  },
  {
   "cell_type": "code",
   "execution_count": 120,
   "metadata": {},
   "outputs": [],
   "source": [
    "lasso = linear_model.Lasso(alpha=0.1)"
   ]
  },
  {
   "cell_type": "code",
   "execution_count": 121,
   "metadata": {},
   "outputs": [
    {
     "ename": "ValueError",
     "evalue": "could not convert string to float: 'ja'",
     "output_type": "error",
     "traceback": [
      "\u001b[0;31m---------------------------------------------------------------------------\u001b[0m",
      "\u001b[0;31mValueError\u001b[0m                                Traceback (most recent call last)",
      "\u001b[1;32m/Users/kartiksharma/Desktop/School/Machine Learning/Competition/code.ipynb Cell 46\u001b[0m in \u001b[0;36m<cell line: 1>\u001b[0;34m()\u001b[0m\n\u001b[0;32m----> <a href='vscode-notebook-cell:/Users/kartiksharma/Desktop/School/Machine%20Learning/Competition/code.ipynb#X62sZmlsZQ%3D%3D?line=0'>1</a>\u001b[0m lasso\u001b[39m.\u001b[39;49mfit(X_train,new_y_label)\n",
      "File \u001b[0;32m~/opt/anaconda3/lib/python3.9/site-packages/sklearn/linear_model/_coordinate_descent.py:935\u001b[0m, in \u001b[0;36mElasticNet.fit\u001b[0;34m(self, X, y, sample_weight, check_input)\u001b[0m\n\u001b[1;32m    933\u001b[0m \u001b[39mif\u001b[39;00m check_input:\n\u001b[1;32m    934\u001b[0m     X_copied \u001b[39m=\u001b[39m \u001b[39mself\u001b[39m\u001b[39m.\u001b[39mcopy_X \u001b[39mand\u001b[39;00m \u001b[39mself\u001b[39m\u001b[39m.\u001b[39mfit_intercept\n\u001b[0;32m--> 935\u001b[0m     X, y \u001b[39m=\u001b[39m \u001b[39mself\u001b[39;49m\u001b[39m.\u001b[39;49m_validate_data(\n\u001b[1;32m    936\u001b[0m         X,\n\u001b[1;32m    937\u001b[0m         y,\n\u001b[1;32m    938\u001b[0m         accept_sparse\u001b[39m=\u001b[39;49m\u001b[39m\"\u001b[39;49m\u001b[39mcsc\u001b[39;49m\u001b[39m\"\u001b[39;49m,\n\u001b[1;32m    939\u001b[0m         order\u001b[39m=\u001b[39;49m\u001b[39m\"\u001b[39;49m\u001b[39mF\u001b[39;49m\u001b[39m\"\u001b[39;49m,\n\u001b[1;32m    940\u001b[0m         dtype\u001b[39m=\u001b[39;49m[np\u001b[39m.\u001b[39;49mfloat64, np\u001b[39m.\u001b[39;49mfloat32],\n\u001b[1;32m    941\u001b[0m         copy\u001b[39m=\u001b[39;49mX_copied,\n\u001b[1;32m    942\u001b[0m         multi_output\u001b[39m=\u001b[39;49m\u001b[39mTrue\u001b[39;49;00m,\n\u001b[1;32m    943\u001b[0m         y_numeric\u001b[39m=\u001b[39;49m\u001b[39mTrue\u001b[39;49;00m,\n\u001b[1;32m    944\u001b[0m     )\n\u001b[1;32m    945\u001b[0m     y \u001b[39m=\u001b[39m check_array(\n\u001b[1;32m    946\u001b[0m         y, order\u001b[39m=\u001b[39m\u001b[39m\"\u001b[39m\u001b[39mF\u001b[39m\u001b[39m\"\u001b[39m, copy\u001b[39m=\u001b[39m\u001b[39mFalse\u001b[39;00m, dtype\u001b[39m=\u001b[39mX\u001b[39m.\u001b[39mdtype\u001b[39m.\u001b[39mtype, ensure_2d\u001b[39m=\u001b[39m\u001b[39mFalse\u001b[39;00m\n\u001b[1;32m    947\u001b[0m     )\n\u001b[1;32m    949\u001b[0m n_samples, n_features \u001b[39m=\u001b[39m X\u001b[39m.\u001b[39mshape\n",
      "File \u001b[0;32m~/opt/anaconda3/lib/python3.9/site-packages/sklearn/base.py:581\u001b[0m, in \u001b[0;36mBaseEstimator._validate_data\u001b[0;34m(self, X, y, reset, validate_separately, **check_params)\u001b[0m\n\u001b[1;32m    579\u001b[0m         y \u001b[39m=\u001b[39m check_array(y, \u001b[39m*\u001b[39m\u001b[39m*\u001b[39mcheck_y_params)\n\u001b[1;32m    580\u001b[0m     \u001b[39melse\u001b[39;00m:\n\u001b[0;32m--> 581\u001b[0m         X, y \u001b[39m=\u001b[39m check_X_y(X, y, \u001b[39m*\u001b[39;49m\u001b[39m*\u001b[39;49mcheck_params)\n\u001b[1;32m    582\u001b[0m     out \u001b[39m=\u001b[39m X, y\n\u001b[1;32m    584\u001b[0m \u001b[39mif\u001b[39;00m \u001b[39mnot\u001b[39;00m no_val_X \u001b[39mand\u001b[39;00m check_params\u001b[39m.\u001b[39mget(\u001b[39m\"\u001b[39m\u001b[39mensure_2d\u001b[39m\u001b[39m\"\u001b[39m, \u001b[39mTrue\u001b[39;00m):\n",
      "File \u001b[0;32m~/opt/anaconda3/lib/python3.9/site-packages/sklearn/utils/validation.py:964\u001b[0m, in \u001b[0;36mcheck_X_y\u001b[0;34m(X, y, accept_sparse, accept_large_sparse, dtype, order, copy, force_all_finite, ensure_2d, allow_nd, multi_output, ensure_min_samples, ensure_min_features, y_numeric, estimator)\u001b[0m\n\u001b[1;32m    961\u001b[0m \u001b[39mif\u001b[39;00m y \u001b[39mis\u001b[39;00m \u001b[39mNone\u001b[39;00m:\n\u001b[1;32m    962\u001b[0m     \u001b[39mraise\u001b[39;00m \u001b[39mValueError\u001b[39;00m(\u001b[39m\"\u001b[39m\u001b[39my cannot be None\u001b[39m\u001b[39m\"\u001b[39m)\n\u001b[0;32m--> 964\u001b[0m X \u001b[39m=\u001b[39m check_array(\n\u001b[1;32m    965\u001b[0m     X,\n\u001b[1;32m    966\u001b[0m     accept_sparse\u001b[39m=\u001b[39;49maccept_sparse,\n\u001b[1;32m    967\u001b[0m     accept_large_sparse\u001b[39m=\u001b[39;49maccept_large_sparse,\n\u001b[1;32m    968\u001b[0m     dtype\u001b[39m=\u001b[39;49mdtype,\n\u001b[1;32m    969\u001b[0m     order\u001b[39m=\u001b[39;49morder,\n\u001b[1;32m    970\u001b[0m     copy\u001b[39m=\u001b[39;49mcopy,\n\u001b[1;32m    971\u001b[0m     force_all_finite\u001b[39m=\u001b[39;49mforce_all_finite,\n\u001b[1;32m    972\u001b[0m     ensure_2d\u001b[39m=\u001b[39;49mensure_2d,\n\u001b[1;32m    973\u001b[0m     allow_nd\u001b[39m=\u001b[39;49mallow_nd,\n\u001b[1;32m    974\u001b[0m     ensure_min_samples\u001b[39m=\u001b[39;49mensure_min_samples,\n\u001b[1;32m    975\u001b[0m     ensure_min_features\u001b[39m=\u001b[39;49mensure_min_features,\n\u001b[1;32m    976\u001b[0m     estimator\u001b[39m=\u001b[39;49mestimator,\n\u001b[1;32m    977\u001b[0m )\n\u001b[1;32m    979\u001b[0m y \u001b[39m=\u001b[39m _check_y(y, multi_output\u001b[39m=\u001b[39mmulti_output, y_numeric\u001b[39m=\u001b[39my_numeric)\n\u001b[1;32m    981\u001b[0m check_consistent_length(X, y)\n",
      "File \u001b[0;32m~/opt/anaconda3/lib/python3.9/site-packages/sklearn/utils/validation.py:746\u001b[0m, in \u001b[0;36mcheck_array\u001b[0;34m(array, accept_sparse, accept_large_sparse, dtype, order, copy, force_all_finite, ensure_2d, allow_nd, ensure_min_samples, ensure_min_features, estimator)\u001b[0m\n\u001b[1;32m    744\u001b[0m         array \u001b[39m=\u001b[39m array\u001b[39m.\u001b[39mastype(dtype, casting\u001b[39m=\u001b[39m\u001b[39m\"\u001b[39m\u001b[39munsafe\u001b[39m\u001b[39m\"\u001b[39m, copy\u001b[39m=\u001b[39m\u001b[39mFalse\u001b[39;00m)\n\u001b[1;32m    745\u001b[0m     \u001b[39melse\u001b[39;00m:\n\u001b[0;32m--> 746\u001b[0m         array \u001b[39m=\u001b[39m np\u001b[39m.\u001b[39;49masarray(array, order\u001b[39m=\u001b[39;49morder, dtype\u001b[39m=\u001b[39;49mdtype)\n\u001b[1;32m    747\u001b[0m \u001b[39mexcept\u001b[39;00m ComplexWarning \u001b[39mas\u001b[39;00m complex_warning:\n\u001b[1;32m    748\u001b[0m     \u001b[39mraise\u001b[39;00m \u001b[39mValueError\u001b[39;00m(\n\u001b[1;32m    749\u001b[0m         \u001b[39m\"\u001b[39m\u001b[39mComplex data not supported\u001b[39m\u001b[39m\\n\u001b[39;00m\u001b[39m{}\u001b[39;00m\u001b[39m\\n\u001b[39;00m\u001b[39m\"\u001b[39m\u001b[39m.\u001b[39mformat(array)\n\u001b[1;32m    750\u001b[0m     ) \u001b[39mfrom\u001b[39;00m \u001b[39mcomplex_warning\u001b[39;00m\n",
      "File \u001b[0;32m~/opt/anaconda3/lib/python3.9/site-packages/pandas/core/generic.py:2064\u001b[0m, in \u001b[0;36mNDFrame.__array__\u001b[0;34m(self, dtype)\u001b[0m\n\u001b[1;32m   2063\u001b[0m \u001b[39mdef\u001b[39;00m \u001b[39m__array__\u001b[39m(\u001b[39mself\u001b[39m, dtype: npt\u001b[39m.\u001b[39mDTypeLike \u001b[39m|\u001b[39m \u001b[39mNone\u001b[39;00m \u001b[39m=\u001b[39m \u001b[39mNone\u001b[39;00m) \u001b[39m-\u001b[39m\u001b[39m>\u001b[39m np\u001b[39m.\u001b[39mndarray:\n\u001b[0;32m-> 2064\u001b[0m     \u001b[39mreturn\u001b[39;00m np\u001b[39m.\u001b[39;49masarray(\u001b[39mself\u001b[39;49m\u001b[39m.\u001b[39;49m_values, dtype\u001b[39m=\u001b[39;49mdtype)\n",
      "\u001b[0;31mValueError\u001b[0m: could not convert string to float: 'ja'"
     ]
    }
   ],
   "source": [
    "lasso.fit(X_train,new_y_label)"
   ]
  },
  {
   "cell_type": "code",
   "execution_count": 72,
   "metadata": {},
   "outputs": [],
   "source": [
    "submit = lasso.predict(xtest)"
   ]
  },
  {
   "cell_type": "code",
   "execution_count": 73,
   "metadata": {},
   "outputs": [
    {
     "name": "stdout",
     "output_type": "stream",
     "text": [
      "[6.84818946 6.49955839 6.66736054 ... 6.21763039 6.50601176 6.85466126]\n"
     ]
    }
   ],
   "source": [
    "print(submit)"
   ]
  },
  {
   "cell_type": "code",
   "execution_count": 74,
   "metadata": {},
   "outputs": [],
   "source": [
    "df4 = pd.DataFrame(submit, columns=['vote_average'])\n",
    "df4.to_csv('newsubmit.csv')"
   ]
  },
  {
   "cell_type": "code",
   "execution_count": 75,
   "metadata": {},
   "outputs": [
    {
     "data": {
      "text/plain": [
       "ElasticNet(random_state=0)"
      ]
     },
     "execution_count": 75,
     "metadata": {},
     "output_type": "execute_result"
    }
   ],
   "source": [
    "regr = ElasticNet(random_state=0)\n",
    "regr.fit(X_train, new_y_label)"
   ]
  },
  {
   "cell_type": "code",
   "execution_count": 76,
   "metadata": {},
   "outputs": [
    {
     "name": "stdout",
     "output_type": "stream",
     "text": [
      "[6.82386826 6.54911137 6.65801752 ... 6.24211623 6.50760837 6.8304342 ]\n"
     ]
    }
   ],
   "source": [
    "elasticnetsubmit = regr.predict(xtest)\n",
    "print(elasticnetsubmit)"
   ]
  },
  {
   "cell_type": "code",
   "execution_count": 124,
   "metadata": {},
   "outputs": [],
   "source": [
    "df5 = pd.DataFrame(elasticnetsubmit, columns=['vote_average'])\n",
    "df5.to_csv('elasticnetsubmit.csv')"
   ]
  },
  {
   "cell_type": "code",
   "execution_count": 125,
   "metadata": {},
   "outputs": [
    {
     "data": {
      "text/plain": [
       "LinearRegression()"
      ]
     },
     "execution_count": 125,
     "metadata": {},
     "output_type": "execute_result"
    }
   ],
   "source": [
    "regr = LinearRegression()\n",
    "regr.fit(X_train,new_y_label)\n"
   ]
  },
  {
   "cell_type": "code",
   "execution_count": 126,
   "metadata": {},
   "outputs": [
    {
     "name": "stdout",
     "output_type": "stream",
     "text": [
      "[[6.85416851]\n",
      " [6.48735591]\n",
      " [6.66966041]\n",
      " ...\n",
      " [6.21160879]\n",
      " [6.5056172 ]\n",
      " [6.86061827]]\n"
     ]
    }
   ],
   "source": [
    "y_prediction =  regr.predict(xtest)\n",
    "print(y_prediction)"
   ]
  },
  {
   "cell_type": "code",
   "execution_count": 117,
   "metadata": {},
   "outputs": [
    {
     "data": {
      "text/plain": [
       "TfidfVectorizer(ngram_range=(1, 2))"
      ]
     },
     "execution_count": 117,
     "metadata": {},
     "output_type": "execute_result"
    }
   ],
   "source": [
    "vector = TfidfVectorizer(ngram_range=(1,2))\n",
    "vector.fit(X_train)"
   ]
  },
  {
   "cell_type": "code",
   "execution_count": 118,
   "metadata": {},
   "outputs": [],
   "source": [
    "newX_train = vector.transform(X_train)\n",
    "newy_train = vector.transform(new_y_label)"
   ]
  },
  {
   "cell_type": "code",
   "execution_count": 119,
   "metadata": {},
   "outputs": [
    {
     "ename": "ValueError",
     "evalue": "Found input variables with inconsistent numbers of samples: [7, 3730]",
     "output_type": "error",
     "traceback": [
      "\u001b[0;31m---------------------------------------------------------------------------\u001b[0m",
      "\u001b[0;31mValueError\u001b[0m                                Traceback (most recent call last)",
      "\u001b[1;32m/Users/kartiksharma/Desktop/School/Machine Learning/Competition/code.ipynb Cell 57\u001b[0m in \u001b[0;36m<cell line: 2>\u001b[0;34m()\u001b[0m\n\u001b[1;32m      <a href='vscode-notebook-cell:/Users/kartiksharma/Desktop/School/Machine%20Learning/Competition/code.ipynb#Y110sZmlsZQ%3D%3D?line=0'>1</a>\u001b[0m lasso2 \u001b[39m=\u001b[39m linear_model\u001b[39m.\u001b[39mLasso(alpha\u001b[39m=\u001b[39m\u001b[39m0.1\u001b[39m)\n\u001b[0;32m----> <a href='vscode-notebook-cell:/Users/kartiksharma/Desktop/School/Machine%20Learning/Competition/code.ipynb#Y110sZmlsZQ%3D%3D?line=1'>2</a>\u001b[0m lasso2\u001b[39m.\u001b[39;49mfit(newX_train, new_y_label)\n",
      "File \u001b[0;32m~/opt/anaconda3/lib/python3.9/site-packages/sklearn/linear_model/_coordinate_descent.py:935\u001b[0m, in \u001b[0;36mElasticNet.fit\u001b[0;34m(self, X, y, sample_weight, check_input)\u001b[0m\n\u001b[1;32m    933\u001b[0m \u001b[39mif\u001b[39;00m check_input:\n\u001b[1;32m    934\u001b[0m     X_copied \u001b[39m=\u001b[39m \u001b[39mself\u001b[39m\u001b[39m.\u001b[39mcopy_X \u001b[39mand\u001b[39;00m \u001b[39mself\u001b[39m\u001b[39m.\u001b[39mfit_intercept\n\u001b[0;32m--> 935\u001b[0m     X, y \u001b[39m=\u001b[39m \u001b[39mself\u001b[39;49m\u001b[39m.\u001b[39;49m_validate_data(\n\u001b[1;32m    936\u001b[0m         X,\n\u001b[1;32m    937\u001b[0m         y,\n\u001b[1;32m    938\u001b[0m         accept_sparse\u001b[39m=\u001b[39;49m\u001b[39m\"\u001b[39;49m\u001b[39mcsc\u001b[39;49m\u001b[39m\"\u001b[39;49m,\n\u001b[1;32m    939\u001b[0m         order\u001b[39m=\u001b[39;49m\u001b[39m\"\u001b[39;49m\u001b[39mF\u001b[39;49m\u001b[39m\"\u001b[39;49m,\n\u001b[1;32m    940\u001b[0m         dtype\u001b[39m=\u001b[39;49m[np\u001b[39m.\u001b[39;49mfloat64, np\u001b[39m.\u001b[39;49mfloat32],\n\u001b[1;32m    941\u001b[0m         copy\u001b[39m=\u001b[39;49mX_copied,\n\u001b[1;32m    942\u001b[0m         multi_output\u001b[39m=\u001b[39;49m\u001b[39mTrue\u001b[39;49;00m,\n\u001b[1;32m    943\u001b[0m         y_numeric\u001b[39m=\u001b[39;49m\u001b[39mTrue\u001b[39;49;00m,\n\u001b[1;32m    944\u001b[0m     )\n\u001b[1;32m    945\u001b[0m     y \u001b[39m=\u001b[39m check_array(\n\u001b[1;32m    946\u001b[0m         y, order\u001b[39m=\u001b[39m\u001b[39m\"\u001b[39m\u001b[39mF\u001b[39m\u001b[39m\"\u001b[39m, copy\u001b[39m=\u001b[39m\u001b[39mFalse\u001b[39;00m, dtype\u001b[39m=\u001b[39mX\u001b[39m.\u001b[39mdtype\u001b[39m.\u001b[39mtype, ensure_2d\u001b[39m=\u001b[39m\u001b[39mFalse\u001b[39;00m\n\u001b[1;32m    947\u001b[0m     )\n\u001b[1;32m    949\u001b[0m n_samples, n_features \u001b[39m=\u001b[39m X\u001b[39m.\u001b[39mshape\n",
      "File \u001b[0;32m~/opt/anaconda3/lib/python3.9/site-packages/sklearn/base.py:581\u001b[0m, in \u001b[0;36mBaseEstimator._validate_data\u001b[0;34m(self, X, y, reset, validate_separately, **check_params)\u001b[0m\n\u001b[1;32m    579\u001b[0m         y \u001b[39m=\u001b[39m check_array(y, \u001b[39m*\u001b[39m\u001b[39m*\u001b[39mcheck_y_params)\n\u001b[1;32m    580\u001b[0m     \u001b[39melse\u001b[39;00m:\n\u001b[0;32m--> 581\u001b[0m         X, y \u001b[39m=\u001b[39m check_X_y(X, y, \u001b[39m*\u001b[39;49m\u001b[39m*\u001b[39;49mcheck_params)\n\u001b[1;32m    582\u001b[0m     out \u001b[39m=\u001b[39m X, y\n\u001b[1;32m    584\u001b[0m \u001b[39mif\u001b[39;00m \u001b[39mnot\u001b[39;00m no_val_X \u001b[39mand\u001b[39;00m check_params\u001b[39m.\u001b[39mget(\u001b[39m\"\u001b[39m\u001b[39mensure_2d\u001b[39m\u001b[39m\"\u001b[39m, \u001b[39mTrue\u001b[39;00m):\n",
      "File \u001b[0;32m~/opt/anaconda3/lib/python3.9/site-packages/sklearn/utils/validation.py:981\u001b[0m, in \u001b[0;36mcheck_X_y\u001b[0;34m(X, y, accept_sparse, accept_large_sparse, dtype, order, copy, force_all_finite, ensure_2d, allow_nd, multi_output, ensure_min_samples, ensure_min_features, y_numeric, estimator)\u001b[0m\n\u001b[1;32m    964\u001b[0m X \u001b[39m=\u001b[39m check_array(\n\u001b[1;32m    965\u001b[0m     X,\n\u001b[1;32m    966\u001b[0m     accept_sparse\u001b[39m=\u001b[39maccept_sparse,\n\u001b[0;32m   (...)\u001b[0m\n\u001b[1;32m    976\u001b[0m     estimator\u001b[39m=\u001b[39mestimator,\n\u001b[1;32m    977\u001b[0m )\n\u001b[1;32m    979\u001b[0m y \u001b[39m=\u001b[39m _check_y(y, multi_output\u001b[39m=\u001b[39mmulti_output, y_numeric\u001b[39m=\u001b[39my_numeric)\n\u001b[0;32m--> 981\u001b[0m check_consistent_length(X, y)\n\u001b[1;32m    983\u001b[0m \u001b[39mreturn\u001b[39;00m X, y\n",
      "File \u001b[0;32m~/opt/anaconda3/lib/python3.9/site-packages/sklearn/utils/validation.py:332\u001b[0m, in \u001b[0;36mcheck_consistent_length\u001b[0;34m(*arrays)\u001b[0m\n\u001b[1;32m    330\u001b[0m uniques \u001b[39m=\u001b[39m np\u001b[39m.\u001b[39munique(lengths)\n\u001b[1;32m    331\u001b[0m \u001b[39mif\u001b[39;00m \u001b[39mlen\u001b[39m(uniques) \u001b[39m>\u001b[39m \u001b[39m1\u001b[39m:\n\u001b[0;32m--> 332\u001b[0m     \u001b[39mraise\u001b[39;00m \u001b[39mValueError\u001b[39;00m(\n\u001b[1;32m    333\u001b[0m         \u001b[39m\"\u001b[39m\u001b[39mFound input variables with inconsistent numbers of samples: \u001b[39m\u001b[39m%r\u001b[39;00m\u001b[39m\"\u001b[39m\n\u001b[1;32m    334\u001b[0m         \u001b[39m%\u001b[39m [\u001b[39mint\u001b[39m(l) \u001b[39mfor\u001b[39;00m l \u001b[39min\u001b[39;00m lengths]\n\u001b[1;32m    335\u001b[0m     )\n",
      "\u001b[0;31mValueError\u001b[0m: Found input variables with inconsistent numbers of samples: [7, 3730]"
     ]
    }
   ],
   "source": [
    "lasso2 = linear_model.Lasso(alpha=0.1)\n",
    "lasso2.fit(newX_train, new_y_label)\n"
   ]
  },
  {
   "attachments": {},
   "cell_type": "markdown",
   "metadata": {},
   "source": [
    "## Using Pipelines to seperate between categorical and numerical data:"
   ]
  },
  {
   "cell_type": "code",
   "execution_count": 397,
   "metadata": {},
   "outputs": [],
   "source": [
    "from sklearn.compose import make_column_selector as selector\n",
    "import datetime\n",
    "\n",
    "df_append = pd.read_csv('XTrain.csv')\n",
    "df_temp = pd.read_csv('YTrain.csv')\n",
    "xtest = pd.read_csv('XTest.csv')"
   ]
  },
  {
   "cell_type": "code",
   "execution_count": 398,
   "metadata": {},
   "outputs": [],
   "source": [
    "df_temp = df_temp.rename(columns={\"Unnamed: 0\": \"id\"})"
   ]
  },
  {
   "cell_type": "code",
   "execution_count": 399,
   "metadata": {},
   "outputs": [
    {
     "data": {
      "text/plain": [
       "0       10/14/2014\n",
       "1        6/18/2016\n",
       "2         3/6/2017\n",
       "3         9/7/2007\n",
       "4       10/21/2016\n",
       "           ...    \n",
       "2995    11/11/2021\n",
       "2996      2/8/2019\n",
       "2997     5/19/2006\n",
       "2998     7/24/2018\n",
       "2999    12/20/1962\n",
       "Name: release_date, Length: 3000, dtype: object"
      ]
     },
     "execution_count": 399,
     "metadata": {},
     "output_type": "execute_result"
    }
   ],
   "source": [
    "df_append['runtime'].fillna(np.mean(df_append['runtime']), inplace=True)\n",
    "xtest['runtime'].fillna(np.mean(df_append['runtime']), inplace=True)\n",
    "\n",
    "df_append['tagline'].fillna(\"\", inplace=True)\n",
    "xtest['tagline'].fillna(\"\", inplace=True)\n",
    "\n",
    "df_append['overview'].fillna(\"\", inplace=True)\n",
    "xtest['overview'].fillna(\"\", inplace=True)\n",
    "\n",
    "df_append['release_date'].fillna(\"\", inplace=True)\n",
    "xtest['release_date'].fillna(\"\", inplace=True)\n",
    "\n",
    "df_append['release_date'].astype(str)\n",
    "xtest['release_date'].astype(str)\n"
   ]
  },
  {
   "cell_type": "code",
   "execution_count": 400,
   "metadata": {},
   "outputs": [],
   "source": [
    "df_append = df_append.drop(columns=['id'])\n",
    "xtest = xtest.drop(columns=['id'])"
   ]
  },
  {
   "cell_type": "code",
   "execution_count": 401,
   "metadata": {},
   "outputs": [],
   "source": [
    "from sklearn.compose import make_column_selector as selector\n",
    "\n",
    "numerical_columns_selector = selector(dtype_exclude=object)\n",
    "categorical_columns_selector = selector(dtype_include=object)\n",
    "\n",
    "numerical_columns = numerical_columns_selector(df_append)\n",
    "categorical_columns = categorical_columns_selector(df_append)"
   ]
  },
  {
   "cell_type": "code",
   "execution_count": 384,
   "metadata": {},
   "outputs": [],
   "source": [
    "numerical_columns = ['popularity','revenue','runtime']\n",
    "categorical_columns = ['genre','release_date']\n",
    "tfidf_colums = ['original_language','original_title','overview','tagline']\n"
   ]
  },
  {
   "cell_type": "code",
   "execution_count": 402,
   "metadata": {},
   "outputs": [],
   "source": [
    "from sklearn.preprocessing import OneHotEncoder, StandardScaler\n",
    "from sklearn.preprocessing import MinMaxScaler\n",
    "from sklearn.feature_extraction.text import TfidfVectorizer\n",
    "\n",
    "categorical_preprocessor = OneHotEncoder(handle_unknown=\"ignore\")\n",
    "numerical_preprocessor = StandardScaler()\n",
    "#tfidf_prepprocessor = TfidfVectorizer()"
   ]
  },
  {
   "cell_type": "code",
   "execution_count": 403,
   "metadata": {},
   "outputs": [],
   "source": [
    "from sklearn.compose import ColumnTransformer\n",
    "\n",
    "preprocessor = ColumnTransformer([\n",
    "    ('one-hot-encoder', categorical_preprocessor, categorical_columns),\n",
    "    ('standard_scaler', numerical_preprocessor, numerical_columns)])"
   ]
  },
  {
   "cell_type": "code",
   "execution_count": 404,
   "metadata": {},
   "outputs": [
    {
     "data": {
      "text/plain": [
       "Pipeline(steps=[('columntransformer',\n",
       "                 ColumnTransformer(transformers=[('one-hot-encoder',\n",
       "                                                  OneHotEncoder(handle_unknown='ignore'),\n",
       "                                                  ['original_language',\n",
       "                                                   'original_title',\n",
       "                                                   'release_date', 'genre',\n",
       "                                                   'overview', 'tagline']),\n",
       "                                                 ('standard_scaler',\n",
       "                                                  StandardScaler(),\n",
       "                                                  ['popularity', 'revenue',\n",
       "                                                   'runtime'])])),\n",
       "                ('randomforestregressor', RandomForestRegressor())])"
      ]
     },
     "execution_count": 404,
     "metadata": {},
     "output_type": "execute_result"
    }
   ],
   "source": [
    "from sklearn.linear_model import LogisticRegression\n",
    "from sklearn.pipeline import make_pipeline\n",
    "from sklearn.ensemble import RandomForestRegressor\n",
    "\n",
    "model = make_pipeline(preprocessor, RandomForestRegressor())\n",
    "model"
   ]
  },
  {
   "cell_type": "code",
   "execution_count": 405,
   "metadata": {},
   "outputs": [],
   "source": [
    "df_temp = df_temp.drop(columns=['id'])"
   ]
  },
  {
   "cell_type": "code",
   "execution_count": 406,
   "metadata": {},
   "outputs": [],
   "source": [
    "from sklearn.model_selection import train_test_split\n",
    "\n",
    "data_train, data_test, target_train, target_test = train_test_split(\n",
    "    df_append, df_temp, random_state=42)\n"
   ]
  },
  {
   "cell_type": "code",
   "execution_count": 407,
   "metadata": {},
   "outputs": [
    {
     "name": "stderr",
     "output_type": "stream",
     "text": [
      "/Users/kartiksharma/opt/anaconda3/lib/python3.9/site-packages/sklearn/pipeline.py:394: DataConversionWarning: A column-vector y was passed when a 1d array was expected. Please change the shape of y to (n_samples,), for example using ravel().\n",
      "  self._final_estimator.fit(Xt, y, **fit_params_last_step)\n"
     ]
    }
   ],
   "source": [
    "newmodel = model.fit(data_train,target_train)"
   ]
  },
  {
   "cell_type": "code",
   "execution_count": 408,
   "metadata": {},
   "outputs": [],
   "source": [
    "tocsvFile = newmodel.predict(data_test)"
   ]
  },
  {
   "cell_type": "code",
   "execution_count": 409,
   "metadata": {},
   "outputs": [
    {
     "data": {
      "text/plain": [
       "0.3940998314140266"
      ]
     },
     "execution_count": 409,
     "metadata": {},
     "output_type": "execute_result"
    }
   ],
   "source": [
    "model.score(data_test, target_test)"
   ]
  },
  {
   "cell_type": "code",
   "execution_count": 754,
   "metadata": {},
   "outputs": [],
   "source": [
    "df5 = pd.DataFrame(tocsvFile, columns=['vote_average'])\n",
    "df5.to_csv('llllliouty.csv')"
   ]
  }
 ],
 "metadata": {
  "kernelspec": {
   "display_name": "base",
   "language": "python",
   "name": "python3"
  },
  "language_info": {
   "codemirror_mode": {
    "name": "ipython",
    "version": 3
   },
   "file_extension": ".py",
   "mimetype": "text/x-python",
   "name": "python",
   "nbconvert_exporter": "python",
   "pygments_lexer": "ipython3",
   "version": "3.9.12"
  },
  "orig_nbformat": 4
 },
 "nbformat": 4,
 "nbformat_minor": 2
}
