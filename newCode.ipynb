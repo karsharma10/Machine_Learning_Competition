{
 "cells": [
  {
   "cell_type": "code",
   "execution_count": 173,
   "metadata": {},
   "outputs": [],
   "source": [
    "import numpy as np\n",
    "import matplotlib.pyplot as plt\n",
    "import pandas as pd\n",
    "from sklearn.metrics import accuracy_score\n",
    "import nltk\n",
    "from nltk.tokenize import word_tokenize\n",
    "from sklearn.feature_extraction.text import CountVectorizer, TfidfVectorizer\n",
    "from sklearn.linear_model import SGDClassifier\n",
    "from sklearn.base import BaseEstimator, TransformerMixin\n",
    "from sklearn.pipeline import FeatureUnion, Pipeline\n",
    "from sklearn.metrics import accuracy_score\n",
    "from sklearn.preprocessing import StandardScaler\n",
    "from sklearn.linear_model import Ridge\n",
    "from sklearn.ensemble import RandomForestClassifier\n",
    "from sklearn.neural_network import MLPClassifier\n",
    "from sklearn.neighbors import KNeighborsClassifier\n",
    "from sklearn.linear_model import LogisticRegression\n",
    "from sklearn import linear_model\n",
    "from sklearn.linear_model import ElasticNet\n",
    "\n",
    "from sklearn.preprocessing import OneHotEncoder, StandardScaler\n",
    "from sklearn.preprocessing import MinMaxScaler\n",
    "from sklearn.feature_extraction.text import TfidfVectorizer\n",
    "from sklearn.compose import ColumnTransformer\n",
    "\n",
    "from sklearn.preprocessing import OneHotEncoder, StandardScaler\n",
    "from sklearn.preprocessing import MinMaxScaler\n",
    "from sklearn.feature_extraction.text import TfidfVectorizer\n",
    "from sklearn.preprocessing import OrdinalEncoder"
   ]
  },
  {
   "cell_type": "code",
   "execution_count": 276,
   "metadata": {},
   "outputs": [],
   "source": [
    "from sklearn.compose import make_column_selector as selector\n",
    "import datetime\n",
    "\n",
    "df_append = pd.read_csv('XTrain.csv')\n",
    "df_temp = pd.read_csv('YTrain.csv')\n",
    "xtest = pd.read_csv('XTest.csv')"
   ]
  },
  {
   "cell_type": "code",
   "execution_count": 277,
   "metadata": {},
   "outputs": [],
   "source": [
    "df_temp = df_temp.rename(columns={\"Unnamed: 0\": \"id\"})"
   ]
  },
  {
   "cell_type": "code",
   "execution_count": 278,
   "metadata": {},
   "outputs": [],
   "source": [
    "df_append['runtime'].fillna(np.mean(df_append['runtime']), inplace=True)\n",
    "xtest['runtime'].fillna(np.mean(df_append['runtime']), inplace=True)\n",
    "\n",
    "df_append['tagline'].fillna(\"\", inplace=True)\n",
    "xtest['tagline'].fillna(\"\", inplace=True)\n",
    "\n",
    "df_append['overview'].fillna(\"\", inplace=True)\n",
    "xtest['overview'].fillna(\"\", inplace=True)\n",
    "\n",
    "df_append['release_date'] = df_append['release_date'].fillna('01/01/1900')\n",
    "df_append['release_date'] = df_append['release_date'].apply(lambda x: datetime.datetime.strptime(x, '%m/%d/%Y').timestamp())\n",
    "\n",
    "xtest['release_date'] = xtest['release_date'].fillna('01/01/1900')\n",
    "xtest['release_date'] = xtest['release_date'].apply(lambda x: datetime.datetime.strptime(x, '%m/%d/%Y').timestamp())\n"
   ]
  },
  {
   "cell_type": "code",
   "execution_count": 310,
   "metadata": {},
   "outputs": [],
   "source": [
    "numerical_columns = ['popularity','revenue','runtime','release_date']\n",
    "categorical_columns = ['genre','original_language']\n"
   ]
  },
  {
   "cell_type": "code",
   "execution_count": 335,
   "metadata": {},
   "outputs": [],
   "source": [
    "preprocessor = ColumnTransformer(\n",
    "    transformers =[\n",
    "        ('numerical',StandardScaler(), numerical_columns),\n",
    "        ('categorical',OneHotEncoder(handle_unknown=\"ignore\"),categorical_columns),\n",
    "        ('tfidfTitle', TfidfVectorizer(stop_words='english'), 'original_title'),\n",
    "        ('tfidftagline', TfidfVectorizer(stop_words='english'), 'tagline'),\n",
    "        ('tfidoverview', TfidfVectorizer(stop_words='english'), 'overview')\n",
    "    ]\n",
    ")\n",
    "    \n",
    "    \n"
   ]
  },
  {
   "cell_type": "code",
   "execution_count": 336,
   "metadata": {},
   "outputs": [
    {
     "data": {
      "text/plain": [
       "Pipeline(steps=[('columntransformer',\n",
       "                 ColumnTransformer(transformers=[('numerical', StandardScaler(),\n",
       "                                                  ['popularity', 'revenue',\n",
       "                                                   'runtime', 'release_date']),\n",
       "                                                 ('categorical',\n",
       "                                                  OneHotEncoder(handle_unknown='ignore'),\n",
       "                                                  ['genre',\n",
       "                                                   'original_language']),\n",
       "                                                 ('tfidfTitle',\n",
       "                                                  TfidfVectorizer(stop_words='english'),\n",
       "                                                  'original_title'),\n",
       "                                                 ('tfidftagline',\n",
       "                                                  TfidfVectorizer(stop_words='english'),\n",
       "                                                  'tagline'),\n",
       "                                                 ('tfidoverview',\n",
       "                                                  TfidfVectorizer(stop_words='english'),\n",
       "                                                  'overview')])),\n",
       "                ('randomforestregressor', RandomForestRegressor())])"
      ]
     },
     "execution_count": 336,
     "metadata": {},
     "output_type": "execute_result"
    }
   ],
   "source": [
    "from sklearn.linear_model import LogisticRegression\n",
    "from sklearn.pipeline import make_pipeline\n",
    "from sklearn.ensemble import RandomForestRegressor\n",
    "from sklearn.neural_network import MLPRegressor\n",
    "\n",
    "model = make_pipeline(preprocessor, RandomForestRegressor(criterion='squared_error'))\n",
    "model"
   ]
  },
  {
   "cell_type": "code",
   "execution_count": 282,
   "metadata": {},
   "outputs": [],
   "source": [
    "df_temp = df_temp.drop(columns=['id'])"
   ]
  },
  {
   "cell_type": "code",
   "execution_count": 337,
   "metadata": {},
   "outputs": [],
   "source": [
    "from sklearn.model_selection import train_test_split\n",
    "\n",
    "data_train, data_test, target_train, target_test = train_test_split(\n",
    "    df_append, df_temp, random_state=42)\n"
   ]
  },
  {
   "cell_type": "code",
   "execution_count": 338,
   "metadata": {},
   "outputs": [
    {
     "name": "stderr",
     "output_type": "stream",
     "text": [
      "/Users/kartiksharma/opt/anaconda3/lib/python3.9/site-packages/sklearn/pipeline.py:394: DataConversionWarning: A column-vector y was passed when a 1d array was expected. Please change the shape of y to (n_samples,), for example using ravel().\n",
      "  self._final_estimator.fit(Xt, y, **fit_params_last_step)\n"
     ]
    }
   ],
   "source": [
    "newmodel = model.fit(data_train,target_train)"
   ]
  },
  {
   "cell_type": "code",
   "execution_count": 339,
   "metadata": {},
   "outputs": [],
   "source": [
    "tocsvFile = newmodel.predict(data_test)"
   ]
  },
  {
   "cell_type": "code",
   "execution_count": 340,
   "metadata": {},
   "outputs": [
    {
     "data": {
      "text/plain": [
       "0.5718264021586958"
      ]
     },
     "execution_count": 340,
     "metadata": {},
     "output_type": "execute_result"
    }
   ],
   "source": [
    "model.score(data_test, target_test)"
   ]
  },
  {
   "cell_type": "code",
   "execution_count": 320,
   "metadata": {},
   "outputs": [],
   "source": [
    "df5 = pd.DataFrame(tocsvFile, columns=['vote_average'])\n",
    "df5.to_csv('check_to_TFIDFeverything.csv')"
   ]
  },
  {
   "cell_type": "code",
   "execution_count": null,
   "metadata": {},
   "outputs": [],
   "source": []
  }
 ],
 "metadata": {
  "kernelspec": {
   "display_name": "base",
   "language": "python",
   "name": "python3"
  },
  "language_info": {
   "codemirror_mode": {
    "name": "ipython",
    "version": 3
   },
   "file_extension": ".py",
   "mimetype": "text/x-python",
   "name": "python",
   "nbconvert_exporter": "python",
   "pygments_lexer": "ipython3",
   "version": "3.9.12"
  },
  "orig_nbformat": 4
 },
 "nbformat": 4,
 "nbformat_minor": 2
}
